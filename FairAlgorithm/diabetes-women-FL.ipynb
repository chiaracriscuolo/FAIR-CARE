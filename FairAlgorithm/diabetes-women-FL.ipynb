{
  "cells": [
    {
      "cell_type": "markdown",
      "metadata": {
        "id": "view-in-github",
        "colab_type": "text"
      },
      "source": [
        "<a href=\"https://colab.research.google.com/github/DanielCaputo111296/Diabete1/blob/Mitigation1/Copia_di_Diabete_FairLearn(2).ipynb\" target=\"_parent\"><img src=\"https://colab.research.google.com/assets/colab-badge.svg\" alt=\"Open In Colab\"/></a>"
      ]
    },
    {
      "cell_type": "code",
      "execution_count": 1,
      "id": "1edcbdf9",
      "metadata": {
        "id": "1edcbdf9",
        "outputId": "050ea6d9-62dc-4550-f837-2556ed1f5de5",
        "colab": {
          "base_uri": "https://localhost:8080/",
          "height": 283
        }
      },
      "outputs": [
        {
          "output_type": "stream",
          "name": "stdout",
          "text": [
            "Looking in indexes: https://pypi.org/simple, https://us-python.pkg.dev/colab-wheels/public/simple/\n",
            "Collecting fairlearn\n",
            "  Downloading fairlearn-0.8.0-py3-none-any.whl (235 kB)\n",
            "\u001b[K     |████████████████████████████████| 235 kB 34.0 MB/s \n",
            "\u001b[?25hRequirement already satisfied: scikit-learn>=0.22.1 in /usr/local/lib/python3.8/dist-packages (from fairlearn) (1.0.2)\n",
            "Requirement already satisfied: numpy>=1.17.2 in /usr/local/lib/python3.8/dist-packages (from fairlearn) (1.21.6)\n",
            "Requirement already satisfied: scipy>=1.4.1 in /usr/local/lib/python3.8/dist-packages (from fairlearn) (1.7.3)\n",
            "Requirement already satisfied: pandas>=0.25.1 in /usr/local/lib/python3.8/dist-packages (from fairlearn) (1.3.5)\n",
            "Requirement already satisfied: pytz>=2017.3 in /usr/local/lib/python3.8/dist-packages (from pandas>=0.25.1->fairlearn) (2022.6)\n",
            "Requirement already satisfied: python-dateutil>=2.7.3 in /usr/local/lib/python3.8/dist-packages (from pandas>=0.25.1->fairlearn) (2.8.2)\n",
            "Requirement already satisfied: six>=1.5 in /usr/local/lib/python3.8/dist-packages (from python-dateutil>=2.7.3->pandas>=0.25.1->fairlearn) (1.15.0)\n",
            "Requirement already satisfied: threadpoolctl>=2.0.0 in /usr/local/lib/python3.8/dist-packages (from scikit-learn>=0.22.1->fairlearn) (3.1.0)\n",
            "Requirement already satisfied: joblib>=0.11 in /usr/local/lib/python3.8/dist-packages (from scikit-learn>=0.22.1->fairlearn) (1.2.0)\n",
            "Installing collected packages: fairlearn\n",
            "Successfully installed fairlearn-0.8.0\n"
          ]
        },
        {
          "output_type": "display_data",
          "data": {
            "text/html": [
              "        <script type=\"text/javascript\">\n",
              "        window.PlotlyConfig = {MathJaxConfig: 'local'};\n",
              "        if (window.MathJax) {MathJax.Hub.Config({SVG: {font: \"STIX-Web\"}});}\n",
              "        if (typeof require !== 'undefined') {\n",
              "        require.undef(\"plotly\");\n",
              "        requirejs.config({\n",
              "            paths: {\n",
              "                'plotly': ['https://cdn.plot.ly/plotly-2.8.3.min']\n",
              "            }\n",
              "        });\n",
              "        require(['plotly'], function(Plotly) {\n",
              "            window._Plotly = Plotly;\n",
              "        });\n",
              "        }\n",
              "        </script>\n",
              "        "
            ]
          },
          "metadata": {}
        }
      ],
      "source": [
        "!pip install fairlearn\n",
        "import pandas as pd\n",
        "import numpy as np\n",
        "from random import sample\n",
        "from sklearn.metrics import recall_score\n",
        "from sklearn.metrics import plot_confusion_matrix\n",
        "from fairlearn.metrics import demographic_parity_ratio\n",
        "from sklearn.metrics import confusion_matrix\n",
        "from sklearn.datasets import fetch_openml\n",
        "from sklearn.metrics import accuracy_score, precision_score\n",
        "from sklearn.tree import DecisionTreeClassifier\n",
        "from fairlearn.metrics import equalized_odds_difference\n",
        "from fairlearn.metrics import demographic_parity_difference\n",
        "import pandas as pd\n",
        "from sklearn.model_selection import train_test_split\n",
        "import tensorflow as tf\n",
        "import matplotlib.pyplot as plt\n",
        "import seaborn as sns\n",
        "from scipy.stats import pearsonr\n",
        "from scipy.stats import f_oneway\n",
        "import matplotlib\n",
        "import matplotlib.pyplot as plt\n",
        "import matplotlib.patches as patches\n",
        "plt.style.use('seaborn-white')\n",
        "import seaborn as sns\n",
        "\n",
        "import plotly.offline as py\n",
        "py.init_notebook_mode(connected=True)\n",
        "import plotly.graph_objs as go\n",
        "import plotly.tools as tls\n",
        "import plotly.figure_factory as ff\n",
        "from plotly import tools"
      ]
    },
    {
      "cell_type": "code",
      "source": [
        "from google.colab import files\n",
        "uploaded = files.upload()"
      ],
      "metadata": {
        "id": "qr_e3GPOUrnF",
        "outputId": "7ceda86c-42d5-4b04-e590-2b2c701469be",
        "colab": {
          "base_uri": "https://localhost:8080/",
          "height": 74
        }
      },
      "id": "qr_e3GPOUrnF",
      "execution_count": 2,
      "outputs": [
        {
          "output_type": "display_data",
          "data": {
            "text/plain": [
              "<IPython.core.display.HTML object>"
            ],
            "text/html": [
              "\n",
              "     <input type=\"file\" id=\"files-e0f220a6-22e2-48f5-a9c4-3adfc78eef74\" name=\"files[]\" multiple disabled\n",
              "        style=\"border:none\" />\n",
              "     <output id=\"result-e0f220a6-22e2-48f5-a9c4-3adfc78eef74\">\n",
              "      Upload widget is only available when the cell has been executed in the\n",
              "      current browser session. Please rerun this cell to enable.\n",
              "      </output>\n",
              "      <script>// Copyright 2017 Google LLC\n",
              "//\n",
              "// Licensed under the Apache License, Version 2.0 (the \"License\");\n",
              "// you may not use this file except in compliance with the License.\n",
              "// You may obtain a copy of the License at\n",
              "//\n",
              "//      http://www.apache.org/licenses/LICENSE-2.0\n",
              "//\n",
              "// Unless required by applicable law or agreed to in writing, software\n",
              "// distributed under the License is distributed on an \"AS IS\" BASIS,\n",
              "// WITHOUT WARRANTIES OR CONDITIONS OF ANY KIND, either express or implied.\n",
              "// See the License for the specific language governing permissions and\n",
              "// limitations under the License.\n",
              "\n",
              "/**\n",
              " * @fileoverview Helpers for google.colab Python module.\n",
              " */\n",
              "(function(scope) {\n",
              "function span(text, styleAttributes = {}) {\n",
              "  const element = document.createElement('span');\n",
              "  element.textContent = text;\n",
              "  for (const key of Object.keys(styleAttributes)) {\n",
              "    element.style[key] = styleAttributes[key];\n",
              "  }\n",
              "  return element;\n",
              "}\n",
              "\n",
              "// Max number of bytes which will be uploaded at a time.\n",
              "const MAX_PAYLOAD_SIZE = 100 * 1024;\n",
              "\n",
              "function _uploadFiles(inputId, outputId) {\n",
              "  const steps = uploadFilesStep(inputId, outputId);\n",
              "  const outputElement = document.getElementById(outputId);\n",
              "  // Cache steps on the outputElement to make it available for the next call\n",
              "  // to uploadFilesContinue from Python.\n",
              "  outputElement.steps = steps;\n",
              "\n",
              "  return _uploadFilesContinue(outputId);\n",
              "}\n",
              "\n",
              "// This is roughly an async generator (not supported in the browser yet),\n",
              "// where there are multiple asynchronous steps and the Python side is going\n",
              "// to poll for completion of each step.\n",
              "// This uses a Promise to block the python side on completion of each step,\n",
              "// then passes the result of the previous step as the input to the next step.\n",
              "function _uploadFilesContinue(outputId) {\n",
              "  const outputElement = document.getElementById(outputId);\n",
              "  const steps = outputElement.steps;\n",
              "\n",
              "  const next = steps.next(outputElement.lastPromiseValue);\n",
              "  return Promise.resolve(next.value.promise).then((value) => {\n",
              "    // Cache the last promise value to make it available to the next\n",
              "    // step of the generator.\n",
              "    outputElement.lastPromiseValue = value;\n",
              "    return next.value.response;\n",
              "  });\n",
              "}\n",
              "\n",
              "/**\n",
              " * Generator function which is called between each async step of the upload\n",
              " * process.\n",
              " * @param {string} inputId Element ID of the input file picker element.\n",
              " * @param {string} outputId Element ID of the output display.\n",
              " * @return {!Iterable<!Object>} Iterable of next steps.\n",
              " */\n",
              "function* uploadFilesStep(inputId, outputId) {\n",
              "  const inputElement = document.getElementById(inputId);\n",
              "  inputElement.disabled = false;\n",
              "\n",
              "  const outputElement = document.getElementById(outputId);\n",
              "  outputElement.innerHTML = '';\n",
              "\n",
              "  const pickedPromise = new Promise((resolve) => {\n",
              "    inputElement.addEventListener('change', (e) => {\n",
              "      resolve(e.target.files);\n",
              "    });\n",
              "  });\n",
              "\n",
              "  const cancel = document.createElement('button');\n",
              "  inputElement.parentElement.appendChild(cancel);\n",
              "  cancel.textContent = 'Cancel upload';\n",
              "  const cancelPromise = new Promise((resolve) => {\n",
              "    cancel.onclick = () => {\n",
              "      resolve(null);\n",
              "    };\n",
              "  });\n",
              "\n",
              "  // Wait for the user to pick the files.\n",
              "  const files = yield {\n",
              "    promise: Promise.race([pickedPromise, cancelPromise]),\n",
              "    response: {\n",
              "      action: 'starting',\n",
              "    }\n",
              "  };\n",
              "\n",
              "  cancel.remove();\n",
              "\n",
              "  // Disable the input element since further picks are not allowed.\n",
              "  inputElement.disabled = true;\n",
              "\n",
              "  if (!files) {\n",
              "    return {\n",
              "      response: {\n",
              "        action: 'complete',\n",
              "      }\n",
              "    };\n",
              "  }\n",
              "\n",
              "  for (const file of files) {\n",
              "    const li = document.createElement('li');\n",
              "    li.append(span(file.name, {fontWeight: 'bold'}));\n",
              "    li.append(span(\n",
              "        `(${file.type || 'n/a'}) - ${file.size} bytes, ` +\n",
              "        `last modified: ${\n",
              "            file.lastModifiedDate ? file.lastModifiedDate.toLocaleDateString() :\n",
              "                                    'n/a'} - `));\n",
              "    const percent = span('0% done');\n",
              "    li.appendChild(percent);\n",
              "\n",
              "    outputElement.appendChild(li);\n",
              "\n",
              "    const fileDataPromise = new Promise((resolve) => {\n",
              "      const reader = new FileReader();\n",
              "      reader.onload = (e) => {\n",
              "        resolve(e.target.result);\n",
              "      };\n",
              "      reader.readAsArrayBuffer(file);\n",
              "    });\n",
              "    // Wait for the data to be ready.\n",
              "    let fileData = yield {\n",
              "      promise: fileDataPromise,\n",
              "      response: {\n",
              "        action: 'continue',\n",
              "      }\n",
              "    };\n",
              "\n",
              "    // Use a chunked sending to avoid message size limits. See b/62115660.\n",
              "    let position = 0;\n",
              "    do {\n",
              "      const length = Math.min(fileData.byteLength - position, MAX_PAYLOAD_SIZE);\n",
              "      const chunk = new Uint8Array(fileData, position, length);\n",
              "      position += length;\n",
              "\n",
              "      const base64 = btoa(String.fromCharCode.apply(null, chunk));\n",
              "      yield {\n",
              "        response: {\n",
              "          action: 'append',\n",
              "          file: file.name,\n",
              "          data: base64,\n",
              "        },\n",
              "      };\n",
              "\n",
              "      let percentDone = fileData.byteLength === 0 ?\n",
              "          100 :\n",
              "          Math.round((position / fileData.byteLength) * 100);\n",
              "      percent.textContent = `${percentDone}% done`;\n",
              "\n",
              "    } while (position < fileData.byteLength);\n",
              "  }\n",
              "\n",
              "  // All done.\n",
              "  yield {\n",
              "    response: {\n",
              "      action: 'complete',\n",
              "    }\n",
              "  };\n",
              "}\n",
              "\n",
              "scope.google = scope.google || {};\n",
              "scope.google.colab = scope.google.colab || {};\n",
              "scope.google.colab._files = {\n",
              "  _uploadFiles,\n",
              "  _uploadFilesContinue,\n",
              "};\n",
              "})(self);\n",
              "</script> "
            ]
          },
          "metadata": {}
        },
        {
          "output_type": "stream",
          "name": "stdout",
          "text": [
            "Saving diabetes.csv to diabetes.csv\n"
          ]
        }
      ]
    },
    {
      "cell_type": "code",
      "source": [
        "import io\n",
        "df = pd.read_csv(io.BytesIO(uploaded['diabetes.csv']))"
      ],
      "metadata": {
        "id": "STqFibQ2Uu0t"
      },
      "id": "STqFibQ2Uu0t",
      "execution_count": 3,
      "outputs": []
    },
    {
      "cell_type": "code",
      "execution_count": 4,
      "id": "2fd7765a",
      "metadata": {
        "id": "2fd7765a",
        "outputId": "9ed14167-2539-4599-e9d3-52d9bf25de9d",
        "colab": {
          "base_uri": "https://localhost:8080/",
          "height": 206
        }
      },
      "outputs": [
        {
          "output_type": "execute_result",
          "data": {
            "text/plain": [
              "   Pregnancies  Glucose  BloodPressure  SkinThickness  Insulin   BMI  \\\n",
              "0            6      148             72             35        0  33.6   \n",
              "1            1       85             66             29        0  26.6   \n",
              "2            8      183             64              0        0  23.3   \n",
              "3            1       89             66             23       94  28.1   \n",
              "4            0      137             40             35      168  43.1   \n",
              "\n",
              "   DiabetesPedigreeFunction  Age  Outcome  \n",
              "0                     0.627   50        1  \n",
              "1                     0.351   31        0  \n",
              "2                     0.672   32        1  \n",
              "3                     0.167   21        0  \n",
              "4                     2.288   33        1  "
            ],
            "text/html": [
              "\n",
              "  <div id=\"df-6f45881f-ad94-4d9e-be1f-3b6493f4cbc0\">\n",
              "    <div class=\"colab-df-container\">\n",
              "      <div>\n",
              "<style scoped>\n",
              "    .dataframe tbody tr th:only-of-type {\n",
              "        vertical-align: middle;\n",
              "    }\n",
              "\n",
              "    .dataframe tbody tr th {\n",
              "        vertical-align: top;\n",
              "    }\n",
              "\n",
              "    .dataframe thead th {\n",
              "        text-align: right;\n",
              "    }\n",
              "</style>\n",
              "<table border=\"1\" class=\"dataframe\">\n",
              "  <thead>\n",
              "    <tr style=\"text-align: right;\">\n",
              "      <th></th>\n",
              "      <th>Pregnancies</th>\n",
              "      <th>Glucose</th>\n",
              "      <th>BloodPressure</th>\n",
              "      <th>SkinThickness</th>\n",
              "      <th>Insulin</th>\n",
              "      <th>BMI</th>\n",
              "      <th>DiabetesPedigreeFunction</th>\n",
              "      <th>Age</th>\n",
              "      <th>Outcome</th>\n",
              "    </tr>\n",
              "  </thead>\n",
              "  <tbody>\n",
              "    <tr>\n",
              "      <th>0</th>\n",
              "      <td>6</td>\n",
              "      <td>148</td>\n",
              "      <td>72</td>\n",
              "      <td>35</td>\n",
              "      <td>0</td>\n",
              "      <td>33.6</td>\n",
              "      <td>0.627</td>\n",
              "      <td>50</td>\n",
              "      <td>1</td>\n",
              "    </tr>\n",
              "    <tr>\n",
              "      <th>1</th>\n",
              "      <td>1</td>\n",
              "      <td>85</td>\n",
              "      <td>66</td>\n",
              "      <td>29</td>\n",
              "      <td>0</td>\n",
              "      <td>26.6</td>\n",
              "      <td>0.351</td>\n",
              "      <td>31</td>\n",
              "      <td>0</td>\n",
              "    </tr>\n",
              "    <tr>\n",
              "      <th>2</th>\n",
              "      <td>8</td>\n",
              "      <td>183</td>\n",
              "      <td>64</td>\n",
              "      <td>0</td>\n",
              "      <td>0</td>\n",
              "      <td>23.3</td>\n",
              "      <td>0.672</td>\n",
              "      <td>32</td>\n",
              "      <td>1</td>\n",
              "    </tr>\n",
              "    <tr>\n",
              "      <th>3</th>\n",
              "      <td>1</td>\n",
              "      <td>89</td>\n",
              "      <td>66</td>\n",
              "      <td>23</td>\n",
              "      <td>94</td>\n",
              "      <td>28.1</td>\n",
              "      <td>0.167</td>\n",
              "      <td>21</td>\n",
              "      <td>0</td>\n",
              "    </tr>\n",
              "    <tr>\n",
              "      <th>4</th>\n",
              "      <td>0</td>\n",
              "      <td>137</td>\n",
              "      <td>40</td>\n",
              "      <td>35</td>\n",
              "      <td>168</td>\n",
              "      <td>43.1</td>\n",
              "      <td>2.288</td>\n",
              "      <td>33</td>\n",
              "      <td>1</td>\n",
              "    </tr>\n",
              "  </tbody>\n",
              "</table>\n",
              "</div>\n",
              "      <button class=\"colab-df-convert\" onclick=\"convertToInteractive('df-6f45881f-ad94-4d9e-be1f-3b6493f4cbc0')\"\n",
              "              title=\"Convert this dataframe to an interactive table.\"\n",
              "              style=\"display:none;\">\n",
              "        \n",
              "  <svg xmlns=\"http://www.w3.org/2000/svg\" height=\"24px\"viewBox=\"0 0 24 24\"\n",
              "       width=\"24px\">\n",
              "    <path d=\"M0 0h24v24H0V0z\" fill=\"none\"/>\n",
              "    <path d=\"M18.56 5.44l.94 2.06.94-2.06 2.06-.94-2.06-.94-.94-2.06-.94 2.06-2.06.94zm-11 1L8.5 8.5l.94-2.06 2.06-.94-2.06-.94L8.5 2.5l-.94 2.06-2.06.94zm10 10l.94 2.06.94-2.06 2.06-.94-2.06-.94-.94-2.06-.94 2.06-2.06.94z\"/><path d=\"M17.41 7.96l-1.37-1.37c-.4-.4-.92-.59-1.43-.59-.52 0-1.04.2-1.43.59L10.3 9.45l-7.72 7.72c-.78.78-.78 2.05 0 2.83L4 21.41c.39.39.9.59 1.41.59.51 0 1.02-.2 1.41-.59l7.78-7.78 2.81-2.81c.8-.78.8-2.07 0-2.86zM5.41 20L4 18.59l7.72-7.72 1.47 1.35L5.41 20z\"/>\n",
              "  </svg>\n",
              "      </button>\n",
              "      \n",
              "  <style>\n",
              "    .colab-df-container {\n",
              "      display:flex;\n",
              "      flex-wrap:wrap;\n",
              "      gap: 12px;\n",
              "    }\n",
              "\n",
              "    .colab-df-convert {\n",
              "      background-color: #E8F0FE;\n",
              "      border: none;\n",
              "      border-radius: 50%;\n",
              "      cursor: pointer;\n",
              "      display: none;\n",
              "      fill: #1967D2;\n",
              "      height: 32px;\n",
              "      padding: 0 0 0 0;\n",
              "      width: 32px;\n",
              "    }\n",
              "\n",
              "    .colab-df-convert:hover {\n",
              "      background-color: #E2EBFA;\n",
              "      box-shadow: 0px 1px 2px rgba(60, 64, 67, 0.3), 0px 1px 3px 1px rgba(60, 64, 67, 0.15);\n",
              "      fill: #174EA6;\n",
              "    }\n",
              "\n",
              "    [theme=dark] .colab-df-convert {\n",
              "      background-color: #3B4455;\n",
              "      fill: #D2E3FC;\n",
              "    }\n",
              "\n",
              "    [theme=dark] .colab-df-convert:hover {\n",
              "      background-color: #434B5C;\n",
              "      box-shadow: 0px 1px 3px 1px rgba(0, 0, 0, 0.15);\n",
              "      filter: drop-shadow(0px 1px 2px rgba(0, 0, 0, 0.3));\n",
              "      fill: #FFFFFF;\n",
              "    }\n",
              "  </style>\n",
              "\n",
              "      <script>\n",
              "        const buttonEl =\n",
              "          document.querySelector('#df-6f45881f-ad94-4d9e-be1f-3b6493f4cbc0 button.colab-df-convert');\n",
              "        buttonEl.style.display =\n",
              "          google.colab.kernel.accessAllowed ? 'block' : 'none';\n",
              "\n",
              "        async function convertToInteractive(key) {\n",
              "          const element = document.querySelector('#df-6f45881f-ad94-4d9e-be1f-3b6493f4cbc0');\n",
              "          const dataTable =\n",
              "            await google.colab.kernel.invokeFunction('convertToInteractive',\n",
              "                                                     [key], {});\n",
              "          if (!dataTable) return;\n",
              "\n",
              "          const docLinkHtml = 'Like what you see? Visit the ' +\n",
              "            '<a target=\"_blank\" href=https://colab.research.google.com/notebooks/data_table.ipynb>data table notebook</a>'\n",
              "            + ' to learn more about interactive tables.';\n",
              "          element.innerHTML = '';\n",
              "          dataTable['output_type'] = 'display_data';\n",
              "          await google.colab.output.renderOutput(dataTable, element);\n",
              "          const docLink = document.createElement('div');\n",
              "          docLink.innerHTML = docLinkHtml;\n",
              "          element.appendChild(docLink);\n",
              "        }\n",
              "      </script>\n",
              "    </div>\n",
              "  </div>\n",
              "  "
            ]
          },
          "metadata": {},
          "execution_count": 4
        }
      ],
      "source": [
        "df.head(5)"
      ]
    },
    {
      "cell_type": "markdown",
      "id": "6ba3063d",
      "metadata": {
        "id": "6ba3063d"
      },
      "source": [
        "L'outcome indica se il paziente viene identificato come diabetico osservando le varie analisi o meno"
      ]
    },
    {
      "cell_type": "markdown",
      "id": "ccd9f415",
      "metadata": {
        "id": "ccd9f415"
      },
      "source": [
        "# PRE-PROCESSING"
      ]
    },
    {
      "cell_type": "markdown",
      "id": "29300b77",
      "metadata": {
        "id": "29300b77"
      },
      "source": [
        "Controlliamo prima di tutto la presenza di valori nulli"
      ]
    },
    {
      "cell_type": "code",
      "execution_count": 5,
      "id": "7cfa6aa1",
      "metadata": {
        "id": "7cfa6aa1"
      },
      "outputs": [],
      "source": [
        "def check_null_value(array,name):\n",
        "    p=array.isnull().sum()\n",
        "    print(\"The number of missing value in \"+name+\" is \"+ str(p))\n",
        "    return p"
      ]
    },
    {
      "cell_type": "code",
      "execution_count": 6,
      "id": "58b56eb6",
      "metadata": {
        "id": "58b56eb6",
        "outputId": "9db850cb-31d1-4cb1-cf63-2eb81f6053d5",
        "colab": {
          "base_uri": "https://localhost:8080/"
        }
      },
      "outputs": [
        {
          "output_type": "stream",
          "name": "stdout",
          "text": [
            "The number of missing value in Pregnancies is 0\n",
            "The number of missing value in Glucose is 0\n",
            "The number of missing value in BloodPressure is 0\n",
            "The number of missing value in SkinThickness is 0\n",
            "The number of missing value in Insulin is 0\n",
            "The number of missing value in BMI is 0\n",
            "The number of missing value in DiabetesPedigreeFunction is 0\n",
            "The number of missing value in Age is 0\n",
            "The number of missing value in Outcome is 0\n"
          ]
        }
      ],
      "source": [
        "preg_null=check_null_value(df[\"Pregnancies\"],\"Pregnancies\")\n",
        "gluc_null=check_null_value(df[\"Glucose\"],\"Glucose\")\n",
        "pres_null=check_null_value(df[\"BloodPressure\"],\"BloodPressure\")\n",
        "skin_null=check_null_value(df[\"SkinThickness\"],\"SkinThickness\")\n",
        "insu_null=check_null_value(df[\"Insulin\"],\"Insulin\")\n",
        "bmi_null=check_null_value(df[\"BMI\"],\"BMI\")\n",
        "diab_null=check_null_value(df[\"DiabetesPedigreeFunction\"],\"DiabetesPedigreeFunction\")\n",
        "age_null=check_null_value(df[\"Age\"],\"Age\")\n",
        "out_null=check_null_value(df[\"Outcome\"],\"Outcome\")"
      ]
    },
    {
      "cell_type": "markdown",
      "id": "2a4f6b36",
      "metadata": {
        "id": "2a4f6b36"
      },
      "source": [
        "Dal risultato emerge che non ci sono valori tutti, tuttavia proviamo a fare delle computazioni sulle distribuzioni, per vedere la presenza di outlier."
      ]
    },
    {
      "cell_type": "markdown",
      "id": "578f8c0a",
      "metadata": {
        "id": "578f8c0a"
      },
      "source": [
        "# INSULINE"
      ]
    },
    {
      "cell_type": "code",
      "execution_count": 7,
      "id": "693557fc",
      "metadata": {
        "id": "693557fc",
        "outputId": "7955abbd-c1ec-4bdf-98a8-5097d95215cc",
        "colab": {
          "base_uri": "https://localhost:8080/",
          "height": 294
        }
      },
      "outputs": [
        {
          "output_type": "execute_result",
          "data": {
            "text/plain": [
              "Text(0.5, 0, 'Insulin mu/ml')"
            ]
          },
          "metadata": {},
          "execution_count": 7
        },
        {
          "output_type": "display_data",
          "data": {
            "text/plain": [
              "<Figure size 432x288 with 1 Axes>"
            ],
            "image/png": "[encoded data removed]"
          },
          "metadata": {}
        }
      ],
      "source": [
        "sns.boxplot(x=df[\"Insulin\"])\n",
        "plt.xlabel('Insulin mu/ml')"
      ]
    },
    {
      "cell_type": "markdown",
      "id": "cabcb4b2",
      "metadata": {
        "id": "cabcb4b2"
      },
      "source": [
        "Vediamo di identificare gli outlier. Se un numero è inferiore a q1-1.5 * IQR o maggiore di Q3+1.5 * IQR allora è un valore anomalo.\n"
      ]
    },
    {
      "cell_type": "markdown",
      "id": "6aea1eda",
      "metadata": {
        "id": "6aea1eda"
      },
      "source": [
        "Cominciamo a vedere di identificare gli outlier per l'insulina"
      ]
    },
    {
      "cell_type": "code",
      "execution_count": 8,
      "id": "02c28cfd",
      "metadata": {
        "id": "02c28cfd"
      },
      "outputs": [],
      "source": [
        "def detect_outliers(column):\n",
        "    q1 = df[column].quantile(0.25)\n",
        "    q3 = df[column].quantile(0.75)\n",
        "    IQR = q3 - q1\n",
        "    return df[column][(df[column] < (q1-1.5*IQR))|(df[column] > (q3 + 1.5*IQR))].tolist()\n",
        "    "
      ]
    },
    {
      "cell_type": "code",
      "execution_count": 9,
      "id": "00bc095a",
      "metadata": {
        "id": "00bc095a"
      },
      "outputs": [],
      "source": [
        "outlier_insulin=detect_outliers('Insulin')"
      ]
    },
    {
      "cell_type": "markdown",
      "id": "a9fbf8f6",
      "metadata": {
        "id": "a9fbf8f6"
      },
      "source": [
        "Una volta individuati li sostituiamo con il valore della mediana"
      ]
    },
    {
      "cell_type": "code",
      "execution_count": 10,
      "id": "2557cdc1",
      "metadata": {
        "id": "2557cdc1"
      },
      "outputs": [],
      "source": [
        "def replace_outlier_with_median(column,outliers):\n",
        "    df[column] = np.where(df[column].isin(outliers),df[column].median(),df[column])\n",
        "    return df[column]"
      ]
    },
    {
      "cell_type": "code",
      "execution_count": 11,
      "id": "08289d9e",
      "metadata": {
        "id": "08289d9e"
      },
      "outputs": [],
      "source": [
        "df[\"Insulin\"]=replace_outlier_with_median('Insulin',outlier_insulin)"
      ]
    },
    {
      "cell_type": "code",
      "execution_count": 12,
      "id": "d4443981",
      "metadata": {
        "id": "d4443981",
        "outputId": "5f4ed665-88a6-4496-8cd7-2542e6134029",
        "colab": {
          "base_uri": "https://localhost:8080/",
          "height": 294
        }
      },
      "outputs": [
        {
          "output_type": "execute_result",
          "data": {
            "text/plain": [
              "Text(0.5, 0, 'Insulin mu/ml')"
            ]
          },
          "metadata": {},
          "execution_count": 12
        },
        {
          "output_type": "display_data",
          "data": {
            "text/plain": [
              "<Figure size 432x288 with 1 Axes>"
            ],
            "image/png": "[encoded data removed]"
          },
          "metadata": {}
        }
      ],
      "source": [
        "sns.boxplot(x=df[\"Insulin\"])\n",
        "plt.xlabel('Insulin mu/ml')"
      ]
    },
    {
      "cell_type": "markdown",
      "id": "b45823ee",
      "metadata": {
        "id": "b45823ee"
      },
      "source": [
        "plottiamo la distribuzione dell'insulina"
      ]
    },
    {
      "cell_type": "code",
      "execution_count": 13,
      "id": "e2f4d7c6",
      "metadata": {
        "id": "e2f4d7c6",
        "outputId": "a4bd0dfd-5864-48d7-a463-ac90fff11ae0",
        "colab": {
          "base_uri": "https://localhost:8080/",
          "height": 333
        }
      },
      "outputs": [
        {
          "output_type": "execute_result",
          "data": {
            "text/plain": [
              "(array([418.,  56.,  74.,  62.,  50.,  45.,  27.,  14.,  15.,   7.]),\n",
              " array([  0. ,  31.8,  63.6,  95.4, 127.2, 159. , 190.8, 222.6, 254.4,\n",
              "        286.2, 318. ]),\n",
              " <a list of 10 Patch objects>)"
            ]
          },
          "metadata": {},
          "execution_count": 13
        },
        {
          "output_type": "display_data",
          "data": {
            "text/plain": [
              "<Figure size 432x288 with 1 Axes>"
            ],
            "image/png": "[encoded data removed]"
          },
          "metadata": {}
        }
      ],
      "source": [
        "plt.hist(df[\"Insulin\"])"
      ]
    },
    {
      "cell_type": "code",
      "execution_count": 14,
      "id": "084fe646",
      "metadata": {
        "id": "084fe646",
        "outputId": "d9e28ce0-c1dd-40fa-9089-8fd7769576a9",
        "colab": {
          "base_uri": "https://localhost:8080/"
        }
      },
      "outputs": [
        {
          "output_type": "stream",
          "name": "stdout",
          "text": [
            "0.0    374\n",
            "Name: Insulin, dtype: int64\n"
          ]
        }
      ],
      "source": [
        "df1=df[df[\"Insulin\"]==0]\n",
        "print(df1[\"Insulin\"].value_counts())"
      ]
    },
    {
      "cell_type": "markdown",
      "id": "27735417",
      "metadata": {
        "id": "27735417"
      },
      "source": [
        "Ho trovato 374 valori di insulina a 0. Questi vengono intepretati come valori nulli, quindi li rimpiazzo con la mediana. "
      ]
    },
    {
      "cell_type": "code",
      "execution_count": 15,
      "id": "b0a683ff",
      "metadata": {
        "id": "b0a683ff"
      },
      "outputs": [],
      "source": [
        "df[\"Insulin\"]=df[\"Insulin\"].replace(0,df[\"Insulin\"].median())"
      ]
    },
    {
      "cell_type": "markdown",
      "id": "49fd6a35",
      "metadata": {
        "id": "49fd6a35"
      },
      "source": [
        "# GLUCOSE"
      ]
    },
    {
      "cell_type": "code",
      "execution_count": 16,
      "id": "2dbfef67",
      "metadata": {
        "id": "2dbfef67",
        "outputId": "5505265a-50cc-46ab-e056-820e6b4cb0a1",
        "colab": {
          "base_uri": "https://localhost:8080/",
          "height": 294
        }
      },
      "outputs": [
        {
          "output_type": "execute_result",
          "data": {
            "text/plain": [
              "Text(0.5, 0, 'Glucose 2 hour')"
            ]
          },
          "metadata": {},
          "execution_count": 16
        },
        {
          "output_type": "display_data",
          "data": {
            "text/plain": [
              "<Figure size 432x288 with 1 Axes>"
            ],
            "image/png": "[encoded data removed]"
          },
          "metadata": {}
        }
      ],
      "source": [
        "sns.boxplot(x=df[\"Glucose\"])\n",
        "plt.xlabel('Glucose 2 hour')"
      ]
    },
    {
      "cell_type": "markdown",
      "id": "a47da108",
      "metadata": {
        "id": "a47da108"
      },
      "source": [
        "Dal grafico per quanto riguarda il glucosio non emergono particolari problemi"
      ]
    },
    {
      "cell_type": "code",
      "execution_count": 17,
      "id": "24d56a6b",
      "metadata": {
        "id": "24d56a6b",
        "outputId": "bd93e50b-f868-478d-edf9-b784c6d097f5",
        "colab": {
          "base_uri": "https://localhost:8080/",
          "height": 333
        }
      },
      "outputs": [
        {
          "output_type": "execute_result",
          "data": {
            "text/plain": [
              "(array([  5.,   0.,   4.,  32., 156., 211., 163.,  95.,  56.,  46.]),\n",
              " array([  0. ,  19.9,  39.8,  59.7,  79.6,  99.5, 119.4, 139.3, 159.2,\n",
              "        179.1, 199. ]),\n",
              " <a list of 10 Patch objects>)"
            ]
          },
          "metadata": {},
          "execution_count": 17
        },
        {
          "output_type": "display_data",
          "data": {
            "text/plain": [
              "<Figure size 432x288 with 1 Axes>"
            ],
            "image/png": "[encoded data removed]"
          },
          "metadata": {}
        }
      ],
      "source": [
        "plt.hist(df[\"Glucose\"])"
      ]
    },
    {
      "cell_type": "code",
      "execution_count": 18,
      "id": "2ac925d0",
      "metadata": {
        "id": "2ac925d0",
        "outputId": "c99a197c-176f-42be-f802-45c357d43b75",
        "colab": {
          "base_uri": "https://localhost:8080/"
        }
      },
      "outputs": [
        {
          "output_type": "stream",
          "name": "stdout",
          "text": [
            "0    5\n",
            "Name: Glucose, dtype: int64\n"
          ]
        }
      ],
      "source": [
        "df1=df[df[\"Glucose\"]==0]\n",
        "print(df1[\"Glucose\"].value_counts())"
      ]
    },
    {
      "cell_type": "markdown",
      "id": "1819ed49",
      "metadata": {
        "id": "1819ed49"
      },
      "source": [
        "Essendoci solo 5 valori nulli, possiamo decidere se eliminarli oppure se rimpiazzarli con la mediana. In questo caso ho deciso di eliminarli"
      ]
    },
    {
      "cell_type": "code",
      "execution_count": 19,
      "id": "8cd192fe",
      "metadata": {
        "id": "8cd192fe",
        "outputId": "ba92fe06-ce73-4174-dfad-4ff2d25de384",
        "colab": {
          "base_uri": "https://localhost:8080/"
        }
      },
      "outputs": [
        {
          "output_type": "execute_result",
          "data": {
            "text/plain": [
              "Int64Index([75, 182, 342, 349, 502], dtype='int64')"
            ]
          },
          "metadata": {},
          "execution_count": 19
        }
      ],
      "source": [
        "lista=df1[\"Glucose\"].index\n",
        "lista"
      ]
    },
    {
      "cell_type": "code",
      "execution_count": 20,
      "id": "9491c967",
      "metadata": {
        "id": "9491c967"
      },
      "outputs": [],
      "source": [
        "df=df.drop(lista)"
      ]
    },
    {
      "cell_type": "markdown",
      "id": "c8bbfe7e",
      "metadata": {
        "id": "c8bbfe7e"
      },
      "source": [
        "# BLOOD PRESSURE"
      ]
    },
    {
      "cell_type": "code",
      "execution_count": 21,
      "id": "2bf67b7d",
      "metadata": {
        "id": "2bf67b7d",
        "outputId": "5e27da9d-35ff-4baf-ca3c-04a346ff1ac7",
        "colab": {
          "base_uri": "https://localhost:8080/",
          "height": 294
        }
      },
      "outputs": [
        {
          "output_type": "execute_result",
          "data": {
            "text/plain": [
              "Text(0.5, 0, 'Diastolic blood pressure (mm Hg) ')"
            ]
          },
          "metadata": {},
          "execution_count": 21
        },
        {
          "output_type": "display_data",
          "data": {
            "text/plain": [
              "<Figure size 432x288 with 1 Axes>"
            ],
            "image/png": "[encoded data removed]"
          },
          "metadata": {}
        }
      ],
      "source": [
        "sns.boxplot(x=df[\"BloodPressure\"])\n",
        "plt.xlabel('Diastolic blood pressure (mm Hg) ')"
      ]
    },
    {
      "cell_type": "markdown",
      "id": "e07904de",
      "metadata": {
        "id": "e07904de"
      },
      "source": [
        "Anche da questo grafico emergono la presenza di outlier. Anche per questi sostituiamo il valore della mediana"
      ]
    },
    {
      "cell_type": "code",
      "execution_count": 22,
      "id": "95062059",
      "metadata": {
        "id": "95062059"
      },
      "outputs": [],
      "source": [
        "outlier_pressure=detect_outliers('BloodPressure')\n",
        "df[\"BloodPressure\"]=replace_outlier_with_median('BloodPressure',outlier_pressure)"
      ]
    },
    {
      "cell_type": "code",
      "execution_count": 23,
      "id": "8f115842",
      "metadata": {
        "id": "8f115842",
        "outputId": "0e848980-3823-4905-bf6a-22cf3c3b81f8",
        "colab": {
          "base_uri": "https://localhost:8080/",
          "height": 294
        }
      },
      "outputs": [
        {
          "output_type": "execute_result",
          "data": {
            "text/plain": [
              "Text(0.5, 0, 'Diastolic blood pressure (mm Hg) ')"
            ]
          },
          "metadata": {},
          "execution_count": 23
        },
        {
          "output_type": "display_data",
          "data": {
            "text/plain": [
              "<Figure size 432x288 with 1 Axes>"
            ],
            "image/png": "[encoded data removed]"
          },
          "metadata": {}
        }
      ],
      "source": [
        "sns.boxplot(x=df[\"BloodPressure\"])\n",
        "plt.xlabel('Diastolic blood pressure (mm Hg) ')"
      ]
    },
    {
      "cell_type": "code",
      "execution_count": 24,
      "id": "6646194b",
      "metadata": {
        "id": "6646194b",
        "outputId": "d89f6643-7e2e-4132-de4b-5ba15b8814a8",
        "colab": {
          "base_uri": "https://localhost:8080/",
          "height": 333
        }
      },
      "outputs": [
        {
          "output_type": "execute_result",
          "data": {
            "text/plain": [
              "(array([  6.,  19.,  57., 122., 130., 232.,  98.,  76.,  14.,   9.]),\n",
              " array([ 38. ,  44.8,  51.6,  58.4,  65.2,  72. ,  78.8,  85.6,  92.4,\n",
              "         99.2, 106. ]),\n",
              " <a list of 10 Patch objects>)"
            ]
          },
          "metadata": {},
          "execution_count": 24
        },
        {
          "output_type": "display_data",
          "data": {
            "text/plain": [
              "<Figure size 432x288 with 1 Axes>"
            ],
            "image/png": "[encoded data removed]"
          },
          "metadata": {}
        }
      ],
      "source": [
        "plt.hist(df[\"BloodPressure\"])"
      ]
    },
    {
      "cell_type": "markdown",
      "id": "d658eec5",
      "metadata": {
        "id": "d658eec5"
      },
      "source": [
        "# PREGNANCIES"
      ]
    },
    {
      "cell_type": "code",
      "execution_count": 25,
      "id": "75eb791d",
      "metadata": {
        "id": "75eb791d",
        "outputId": "d7ecd323-92fd-4ed0-ab3b-241de23d02f6",
        "colab": {
          "base_uri": "https://localhost:8080/",
          "height": 294
        }
      },
      "outputs": [
        {
          "output_type": "execute_result",
          "data": {
            "text/plain": [
              "Text(0.5, 0, ' Number of times pregnant ')"
            ]
          },
          "metadata": {},
          "execution_count": 25
        },
        {
          "output_type": "display_data",
          "data": {
            "text/plain": [
              "<Figure size 432x288 with 1 Axes>"
            ],
            "image/png": "[encoded data removed]"
          },
          "metadata": {}
        }
      ],
      "source": [
        "sns.boxplot(x=df[\"Pregnancies\"])\n",
        "plt.xlabel(' Number of times pregnant ')"
      ]
    },
    {
      "cell_type": "markdown",
      "id": "f1c68280",
      "metadata": {
        "id": "f1c68280"
      },
      "source": [
        "Come notiamo qui effettivamente abbiamo degli outlier ben evidenti, e li rimuoviamo"
      ]
    },
    {
      "cell_type": "code",
      "execution_count": 26,
      "id": "802b24e9",
      "metadata": {
        "id": "802b24e9"
      },
      "outputs": [],
      "source": [
        "outlier_preg=detect_outliers('Pregnancies')\n",
        "df[\"Pregnancies\"]=replace_outlier_with_median('Pregnancies',outlier_preg)"
      ]
    },
    {
      "cell_type": "code",
      "execution_count": 27,
      "id": "418f6171",
      "metadata": {
        "id": "418f6171",
        "outputId": "a1862306-f0bb-4060-c064-6f2f967bd9c0",
        "colab": {
          "base_uri": "https://localhost:8080/",
          "height": 294
        }
      },
      "outputs": [
        {
          "output_type": "execute_result",
          "data": {
            "text/plain": [
              "Text(0.5, 0, ' Number of times pregnant ')"
            ]
          },
          "metadata": {},
          "execution_count": 27
        },
        {
          "output_type": "display_data",
          "data": {
            "text/plain": [
              "<Figure size 432x288 with 1 Axes>"
            ],
            "image/png": "[encoded data removed]"
          },
          "metadata": {}
        }
      ],
      "source": [
        "sns.boxplot(x=df[\"Pregnancies\"])\n",
        "plt.xlabel(' Number of times pregnant ')"
      ]
    },
    {
      "cell_type": "code",
      "execution_count": 28,
      "id": "a21f05ec",
      "metadata": {
        "id": "a21f05ec",
        "outputId": "84f7a63d-95ff-4804-91fe-b1d08e3b255b",
        "colab": {
          "base_uri": "https://localhost:8080/",
          "height": 315
        }
      },
      "outputs": [
        {
          "output_type": "execute_result",
          "data": {
            "text/plain": [
              "(array([243., 103.,  79., 124.,  49.,  45.,  66.,  24.,  11.,  19.]),\n",
              " array([ 0. ,  1.3,  2.6,  3.9,  5.2,  6.5,  7.8,  9.1, 10.4, 11.7, 13. ]),\n",
              " <a list of 10 Patch objects>)"
            ]
          },
          "metadata": {},
          "execution_count": 28
        },
        {
          "output_type": "display_data",
          "data": {
            "text/plain": [
              "<Figure size 432x288 with 1 Axes>"
            ],
            "image/png": "[encoded data removed]"
          },
          "metadata": {}
        }
      ],
      "source": [
        "plt.hist(df[\"Pregnancies\"])"
      ]
    },
    {
      "cell_type": "markdown",
      "id": "1327af88",
      "metadata": {
        "id": "1327af88"
      },
      "source": [
        "# SKINTHICKNESS"
      ]
    },
    {
      "cell_type": "code",
      "execution_count": 29,
      "id": "48e29c5a",
      "metadata": {
        "id": "48e29c5a",
        "outputId": "0fb4e3a6-9de7-4811-d95b-0aaa53b4f9f7",
        "colab": {
          "base_uri": "https://localhost:8080/",
          "height": 294
        }
      },
      "outputs": [
        {
          "output_type": "execute_result",
          "data": {
            "text/plain": [
              "Text(0.5, 0, 'Triceps skin fold thickness (mm) ')"
            ]
          },
          "metadata": {},
          "execution_count": 29
        },
        {
          "output_type": "display_data",
          "data": {
            "text/plain": [
              "<Figure size 432x288 with 1 Axes>"
            ],
            "image/png": "[encoded data removed]"
          },
          "metadata": {}
        }
      ],
      "source": [
        "sns.boxplot(x=df[\"SkinThickness\"])\n",
        "plt.xlabel('Triceps skin fold thickness (mm) ')"
      ]
    },
    {
      "cell_type": "code",
      "execution_count": 30,
      "id": "709f8221",
      "metadata": {
        "id": "709f8221"
      },
      "outputs": [],
      "source": [
        "outlier_skin=detect_outliers('SkinThickness')\n",
        "df[\"SkinThickness\"]=replace_outlier_with_median('SkinThickness',outlier_skin)"
      ]
    },
    {
      "cell_type": "code",
      "execution_count": 31,
      "id": "c1f47973",
      "metadata": {
        "id": "c1f47973",
        "outputId": "d3f40c86-9688-4f1f-f4a4-b3878c665c66",
        "colab": {
          "base_uri": "https://localhost:8080/",
          "height": 294
        }
      },
      "outputs": [
        {
          "output_type": "execute_result",
          "data": {
            "text/plain": [
              "Text(0.5, 0, 'Triceps skin fold thickness (mm) ')"
            ]
          },
          "metadata": {},
          "execution_count": 31
        },
        {
          "output_type": "display_data",
          "data": {
            "text/plain": [
              "<Figure size 432x288 with 1 Axes>"
            ],
            "image/png": "[encoded data removed]"
          },
          "metadata": {}
        }
      ],
      "source": [
        "sns.boxplot(x=df[\"SkinThickness\"])\n",
        "plt.xlabel('Triceps skin fold thickness (mm) ')"
      ]
    },
    {
      "cell_type": "code",
      "execution_count": 32,
      "id": "a968f83e",
      "metadata": {
        "id": "a968f83e",
        "outputId": "eaa0aed1-d868-4ee1-8678-ebedc32ef60f",
        "colab": {
          "base_uri": "https://localhost:8080/",
          "height": 315
        }
      },
      "outputs": [
        {
          "output_type": "execute_result",
          "data": {
            "text/plain": [
              "(array([227.,  22.,  71., 106., 122., 102.,  77.,  28.,   6.,   2.]),\n",
              " array([ 0. ,  6.3, 12.6, 18.9, 25.2, 31.5, 37.8, 44.1, 50.4, 56.7, 63. ]),\n",
              " <a list of 10 Patch objects>)"
            ]
          },
          "metadata": {},
          "execution_count": 32
        },
        {
          "output_type": "display_data",
          "data": {
            "text/plain": [
              "<Figure size 432x288 with 1 Axes>"
            ],
            "image/png": "[encoded data removed]"
          },
          "metadata": {}
        }
      ],
      "source": [
        "plt.hist(df[\"SkinThickness\"])"
      ]
    },
    {
      "cell_type": "code",
      "execution_count": 33,
      "id": "39f868c7",
      "metadata": {
        "id": "39f868c7",
        "outputId": "afefe074-3aff-495c-b203-8c918b819bba",
        "colab": {
          "base_uri": "https://localhost:8080/"
        }
      },
      "outputs": [
        {
          "output_type": "stream",
          "name": "stdout",
          "text": [
            "0.0    227\n",
            "Name: SkinThickness, dtype: int64\n"
          ]
        }
      ],
      "source": [
        "df1=df[df[\"SkinThickness\"]==0]\n",
        "print(df1[\"SkinThickness\"].value_counts())"
      ]
    },
    {
      "cell_type": "markdown",
      "id": "33e21816",
      "metadata": {
        "id": "33e21816"
      },
      "source": [
        "La presenza di 227 valori nulli è alquanto ingente, per questo ho deciso in questo caso di sostituirli con la mediana e di non dropparli."
      ]
    },
    {
      "cell_type": "code",
      "execution_count": 34,
      "id": "87dd1b98",
      "metadata": {
        "id": "87dd1b98"
      },
      "outputs": [],
      "source": [
        "df[\"SkinThickness\"]=df[\"SkinThickness\"].replace(0,df[\"SkinThickness\"].median())"
      ]
    },
    {
      "cell_type": "markdown",
      "id": "7a7622bb",
      "metadata": {
        "id": "7a7622bb"
      },
      "source": [
        "# BMI"
      ]
    },
    {
      "cell_type": "code",
      "execution_count": 35,
      "id": "8cbd5970",
      "metadata": {
        "id": "8cbd5970",
        "outputId": "5fa47481-76ec-4f94-8c94-eb66052cf571",
        "colab": {
          "base_uri": "https://localhost:8080/",
          "height": 294
        }
      },
      "outputs": [
        {
          "output_type": "execute_result",
          "data": {
            "text/plain": [
              "Text(0.5, 0, 'Body mass index (weight in kg/(height in m)^2)  ')"
            ]
          },
          "metadata": {},
          "execution_count": 35
        },
        {
          "output_type": "display_data",
          "data": {
            "text/plain": [
              "<Figure size 432x288 with 1 Axes>"
            ],
            "image/png": "[encoded data removed]"
          },
          "metadata": {}
        }
      ],
      "source": [
        "sns.boxplot(x=df[\"BMI\"])\n",
        "plt.xlabel('Body mass index (weight in kg/(height in m)^2)  ')"
      ]
    },
    {
      "cell_type": "code",
      "execution_count": 36,
      "id": "109daa65",
      "metadata": {
        "id": "109daa65"
      },
      "outputs": [],
      "source": [
        "outlier_bmi=detect_outliers('BMI')\n",
        "df[\"BMI\"]=replace_outlier_with_median('BMI',outlier_bmi)"
      ]
    },
    {
      "cell_type": "code",
      "execution_count": 37,
      "id": "7e6cfb1e",
      "metadata": {
        "id": "7e6cfb1e",
        "outputId": "38434a93-132c-459d-9559-2468c8eb7a51",
        "colab": {
          "base_uri": "https://localhost:8080/",
          "height": 294
        }
      },
      "outputs": [
        {
          "output_type": "execute_result",
          "data": {
            "text/plain": [
              "Text(0.5, 0, 'Body mass index (weight in kg/(height in m)^2)  ')"
            ]
          },
          "metadata": {},
          "execution_count": 37
        },
        {
          "output_type": "display_data",
          "data": {
            "text/plain": [
              "<Figure size 432x288 with 1 Axes>"
            ],
            "image/png": "[encoded data removed]"
          },
          "metadata": {}
        }
      ],
      "source": [
        "sns.boxplot(x=df[\"BMI\"])\n",
        "plt.xlabel('Body mass index (weight in kg/(height in m)^2)  ')"
      ]
    },
    {
      "cell_type": "code",
      "execution_count": 38,
      "id": "9ecfffca",
      "metadata": {
        "id": "9ecfffca",
        "outputId": "38375c15-8e59-49f8-9f47-b86aef4d5a68",
        "colab": {
          "base_uri": "https://localhost:8080/",
          "height": 333
        }
      },
      "outputs": [
        {
          "output_type": "execute_result",
          "data": {
            "text/plain": [
              "(array([ 26.,  67., 109., 128., 151., 121.,  76.,  49.,  28.,   8.]),\n",
              " array([18.2 , 21.38, 24.56, 27.74, 30.92, 34.1 , 37.28, 40.46, 43.64,\n",
              "        46.82, 50.  ]),\n",
              " <a list of 10 Patch objects>)"
            ]
          },
          "metadata": {},
          "execution_count": 38
        },
        {
          "output_type": "display_data",
          "data": {
            "text/plain": [
              "<Figure size 432x288 with 1 Axes>"
            ],
            "image/png": "[encoded data removed]"
          },
          "metadata": {}
        }
      ],
      "source": [
        "plt.hist(df[\"BMI\"])"
      ]
    },
    {
      "cell_type": "markdown",
      "id": "be4a2190",
      "metadata": {
        "id": "be4a2190"
      },
      "source": [
        "# Diabetes Pedigree Function"
      ]
    },
    {
      "cell_type": "markdown",
      "id": "08ee18a9",
      "metadata": {
        "id": "08ee18a9"
      },
      "source": [
        "Diabetes Pedigree Function: Indica la funzione che valuta la probabilità di avere il diabete in base alla storia familiare"
      ]
    },
    {
      "cell_type": "code",
      "execution_count": 39,
      "id": "7645aada",
      "metadata": {
        "id": "7645aada",
        "outputId": "528c8f60-b087-48a4-a630-200e677be6cd",
        "colab": {
          "base_uri": "https://localhost:8080/",
          "height": 294
        }
      },
      "outputs": [
        {
          "output_type": "execute_result",
          "data": {
            "text/plain": [
              "Text(0.5, 0, 'Diabetes pedigree function ')"
            ]
          },
          "metadata": {},
          "execution_count": 39
        },
        {
          "output_type": "display_data",
          "data": {
            "text/plain": [
              "<Figure size 432x288 with 1 Axes>"
            ],
            "image/png": "[encoded data removed]"
          },
          "metadata": {}
        }
      ],
      "source": [
        "sns.boxplot(x=df[\"DiabetesPedigreeFunction\"])\n",
        "plt.xlabel('Diabetes pedigree function ')"
      ]
    },
    {
      "cell_type": "code",
      "execution_count": 40,
      "id": "e30c6220",
      "metadata": {
        "id": "e30c6220"
      },
      "outputs": [],
      "source": [
        "outlier_diab=detect_outliers('DiabetesPedigreeFunction')\n",
        "df[\"DiabetesPedigreeFunction\"]=replace_outlier_with_median('DiabetesPedigreeFunction',outlier_diab)"
      ]
    },
    {
      "cell_type": "code",
      "execution_count": 41,
      "id": "d873590d",
      "metadata": {
        "id": "d873590d",
        "outputId": "ca0fdb37-226a-4e79-d715-91371c6e8d1a",
        "colab": {
          "base_uri": "https://localhost:8080/",
          "height": 294
        }
      },
      "outputs": [
        {
          "output_type": "execute_result",
          "data": {
            "text/plain": [
              "Text(0.5, 0, 'Diabetes pedigree function ')"
            ]
          },
          "metadata": {},
          "execution_count": 41
        },
        {
          "output_type": "display_data",
          "data": {
            "text/plain": [
              "<Figure size 432x288 with 1 Axes>"
            ],
            "image/png": "[encoded data removed]"
          },
          "metadata": {}
        }
      ],
      "source": [
        "sns.boxplot(x=df[\"DiabetesPedigreeFunction\"])\n",
        "plt.xlabel('Diabetes pedigree function ')"
      ]
    },
    {
      "cell_type": "code",
      "execution_count": 42,
      "id": "acca1e15",
      "metadata": {
        "id": "acca1e15",
        "outputId": "aad8969b-5c90-411d-f226-40238b1542dc",
        "colab": {
          "base_uri": "https://localhost:8080/",
          "height": 333
        }
      },
      "outputs": [
        {
          "output_type": "execute_result",
          "data": {
            "text/plain": [
              "(array([107., 196., 143.,  84.,  75.,  70.,  34.,  30.,   9.,  15.]),\n",
              " array([0.078 , 0.1893, 0.3006, 0.4119, 0.5232, 0.6345, 0.7458, 0.8571,\n",
              "        0.9684, 1.0797, 1.191 ]),\n",
              " <a list of 10 Patch objects>)"
            ]
          },
          "metadata": {},
          "execution_count": 42
        },
        {
          "output_type": "display_data",
          "data": {
            "text/plain": [
              "<Figure size 432x288 with 1 Axes>"
            ],
            "image/png": "[encoded data removed]"
          },
          "metadata": {}
        }
      ],
      "source": [
        "plt.hist(df[\"DiabetesPedigreeFunction\"])"
      ]
    },
    {
      "cell_type": "markdown",
      "id": "58a0a9a2",
      "metadata": {
        "id": "58a0a9a2"
      },
      "source": [
        "Rimpiazzo con il valore della media"
      ]
    },
    {
      "cell_type": "code",
      "execution_count": 43,
      "id": "e9c906d6",
      "metadata": {
        "id": "e9c906d6"
      },
      "outputs": [],
      "source": [
        "df['DiabetesPedigreeFunction'].where(df['DiabetesPedigreeFunction'] > 1,df['DiabetesPedigreeFunction'].mean() , inplace=True)"
      ]
    },
    {
      "cell_type": "markdown",
      "id": "cd358cbf",
      "metadata": {
        "id": "cd358cbf"
      },
      "source": [
        "# AGE"
      ]
    },
    {
      "cell_type": "code",
      "execution_count": 44,
      "id": "30158e74",
      "metadata": {
        "id": "30158e74",
        "outputId": "0120eadb-1fe1-4d49-b02b-0bcd25cdab7b",
        "colab": {
          "base_uri": "https://localhost:8080/",
          "height": 294
        }
      },
      "outputs": [
        {
          "output_type": "execute_result",
          "data": {
            "text/plain": [
              "Text(0.5, 0, 'years ')"
            ]
          },
          "metadata": {},
          "execution_count": 44
        },
        {
          "output_type": "display_data",
          "data": {
            "text/plain": [
              "<Figure size 432x288 with 1 Axes>"
            ],
            "image/png": "[encoded data removed]"
          },
          "metadata": {}
        }
      ],
      "source": [
        "sns.boxplot(x=df[\"Age\"])\n",
        "plt.xlabel('years ')"
      ]
    },
    {
      "cell_type": "code",
      "execution_count": 45,
      "id": "4078bc13",
      "metadata": {
        "id": "4078bc13"
      },
      "outputs": [],
      "source": [
        "outlier_age=detect_outliers('Age')\n",
        "df[\"Age\"]=replace_outlier_with_median('Age',outlier_age)"
      ]
    },
    {
      "cell_type": "code",
      "execution_count": 46,
      "id": "e56e11d3",
      "metadata": {
        "id": "e56e11d3",
        "outputId": "27cd7288-745c-4d42-b674-d4cb6e59b241",
        "colab": {
          "base_uri": "https://localhost:8080/",
          "height": 294
        }
      },
      "outputs": [
        {
          "output_type": "execute_result",
          "data": {
            "text/plain": [
              "Text(0.5, 0, 'years ')"
            ]
          },
          "metadata": {},
          "execution_count": 46
        },
        {
          "output_type": "display_data",
          "data": {
            "text/plain": [
              "<Figure size 432x288 with 1 Axes>"
            ],
            "image/png": "[encoded data removed]"
          },
          "metadata": {}
        }
      ],
      "source": [
        "sns.boxplot(x=df[\"Age\"])\n",
        "plt.xlabel('years ')"
      ]
    },
    {
      "cell_type": "code",
      "execution_count": 47,
      "id": "85ae5986",
      "metadata": {
        "id": "85ae5986",
        "outputId": "ac77ada6-ae95-4f65-93c0-007208b16596",
        "colab": {
          "base_uri": "https://localhost:8080/",
          "height": 315
        }
      },
      "outputs": [
        {
          "output_type": "execute_result",
          "data": {
            "text/plain": [
              "(array([264., 138.,  92.,  60.,  77.,  42.,  34.,  18.,  22.,  16.]),\n",
              " array([21. , 25.5, 30. , 34.5, 39. , 43.5, 48. , 52.5, 57. , 61.5, 66. ]),\n",
              " <a list of 10 Patch objects>)"
            ]
          },
          "metadata": {},
          "execution_count": 47
        },
        {
          "output_type": "display_data",
          "data": {
            "text/plain": [
              "<Figure size 432x288 with 1 Axes>"
            ],
            "image/png": "[encoded data removed]"
          },
          "metadata": {}
        }
      ],
      "source": [
        "plt.hist(df[\"Age\"])"
      ]
    },
    {
      "cell_type": "markdown",
      "id": "3b442cb7",
      "metadata": {
        "id": "3b442cb7"
      },
      "source": [
        "Plottiamo l'outcome per vedere quante persone sono identificate come diabetiche nel dataset"
      ]
    },
    {
      "cell_type": "code",
      "execution_count": 48,
      "id": "fdf4e43e",
      "metadata": {
        "id": "fdf4e43e",
        "outputId": "1311c1f6-d6dc-4c03-9131-6a3eb617c488",
        "colab": {
          "base_uri": "https://localhost:8080/",
          "height": 248
        }
      },
      "outputs": [
        {
          "output_type": "display_data",
          "data": {
            "text/plain": [
              "<Figure size 432x288 with 1 Axes>"
            ],
            "image/png": "[encoded data removed]"
          },
          "metadata": {}
        }
      ],
      "source": [
        "labels='0','1'\n",
        "size0, size1 = df[\"Outcome\"].value_counts()\n",
        "sizes = [size0, size1]\n",
        "explode = (0, 0)\n",
        "fig1, ax1= plt.subplots()\n",
        "ax1.pie(sizes,explode=explode,labels=labels,autopct='%1.1f%%',\n",
        "        shadow=True, startangle=90)\n",
        "ax1.axis('equal')\n",
        "plt.show()\n"
      ]
    },
    {
      "cell_type": "markdown",
      "id": "b7196311",
      "metadata": {
        "id": "b7196311"
      },
      "source": [
        "Dal risultato della computazione dell'outcome, il 65.1% di donne non è identificata come diabetica, mentre il 34.9% si"
      ]
    },
    {
      "cell_type": "markdown",
      "id": "da9e4251",
      "metadata": {
        "id": "da9e4251"
      },
      "source": [
        "# Fairlearn"
      ]
    },
    {
      "cell_type": "markdown",
      "id": "968f18b3",
      "metadata": {
        "id": "968f18b3"
      },
      "source": [
        "Ora bisogna andare ad identificare il mio protected attribute. Possiamo seguire due strade. La prima è creare una seconda colonna che codifichi l'eta come young,adult,old. La seconda invece è lasciare i valori numerici. Il mio scopo sarebbe capire se c'è una discriminazione verso candidati di una determinata categoria di età.\n",
        "Bisognerebbe valutare se anche il BMI può essere identificato come un attributo protetto o meno. Per ora non lo considero come tale, poi vedo. "
      ]
    },
    {
      "cell_type": "markdown",
      "id": "04fce627",
      "metadata": {
        "id": "04fce627"
      },
      "source": [
        "Categorizziamo l'età come young e adult. In particolare se l'età è >25 sei considerato come adult"
      ]
    },
    {
      "cell_type": "markdown",
      "id": "2f20b447",
      "metadata": {
        "id": "2f20b447"
      },
      "source": [
        "identifico come privileged value Adult, perchè secondo me è piu probabile che tu possa essere classificato come diabetico"
      ]
    },
    {
      "cell_type": "markdown",
      "id": "e51da343",
      "metadata": {
        "id": "e51da343"
      },
      "source": [
        "Fatto la categorizzazione compute la distribuzione del protected attribute, e identifico come privileged value quella categoria di adulti. Perchè ? Perchè magari uno pensa che da adulti la probabilità di essere diabetico possa aumentare. "
      ]
    },
    {
      "cell_type": "code",
      "execution_count": 49,
      "id": "a31ec129",
      "metadata": {
        "id": "a31ec129"
      },
      "outputs": [],
      "source": [
        "def età(row):\n",
        "    if(row[\"Age\"]>25):\n",
        "        return 'Adult'\n",
        "    else:\n",
        "        return 'Young'"
      ]
    },
    {
      "cell_type": "code",
      "execution_count": 50,
      "id": "ca10a5d0",
      "metadata": {
        "id": "ca10a5d0"
      },
      "outputs": [],
      "source": [
        "df[\"AgeCategory\"]=df.apply(lambda row: età(row), axis=1)"
      ]
    },
    {
      "cell_type": "code",
      "execution_count": 51,
      "id": "b8bb7ead",
      "metadata": {
        "id": "b8bb7ead",
        "outputId": "30f1a41d-fee6-452e-a5af-e5647bcf960a",
        "colab": {
          "base_uri": "https://localhost:8080/",
          "height": 206
        }
      },
      "outputs": [
        {
          "output_type": "execute_result",
          "data": {
            "text/plain": [
              "   Pregnancies  Glucose  BloodPressure  SkinThickness  Insulin   BMI  \\\n",
              "0          6.0      148           72.0           35.0    29.75  33.6   \n",
              "1          1.0       85           66.0           29.0    29.75  26.6   \n",
              "2          8.0      183           64.0           23.0    29.75  23.3   \n",
              "3          1.0       89           66.0           23.0    94.00  28.1   \n",
              "4          0.0      137           40.0           35.0   168.00  43.1   \n",
              "\n",
              "   DiabetesPedigreeFunction   Age  Outcome AgeCategory  \n",
              "0                  0.428035  50.0        1       Adult  \n",
              "1                  0.428035  31.0        0       Adult  \n",
              "2                  0.428035  32.0        1       Adult  \n",
              "3                  0.428035  21.0        0       Young  \n",
              "4                  0.428035  33.0        1       Adult  "
            ],
            "text/html": [
              "\n",
              "  <div id=\"df-ead2e7a9-42b9-4392-a065-34ff2a6fd986\">\n",
              "    <div class=\"colab-df-container\">\n",
              "      <div>\n",
              "<style scoped>\n",
              "    .dataframe tbody tr th:only-of-type {\n",
              "        vertical-align: middle;\n",
              "    }\n",
              "\n",
              "    .dataframe tbody tr th {\n",
              "        vertical-align: top;\n",
              "    }\n",
              "\n",
              "    .dataframe thead th {\n",
              "        text-align: right;\n",
              "    }\n",
              "</style>\n",
              "<table border=\"1\" class=\"dataframe\">\n",
              "  <thead>\n",
              "    <tr style=\"text-align: right;\">\n",
              "      <th></th>\n",
              "      <th>Pregnancies</th>\n",
              "      <th>Glucose</th>\n",
              "      <th>BloodPressure</th>\n",
              "      <th>SkinThickness</th>\n",
              "      <th>Insulin</th>\n",
              "      <th>BMI</th>\n",
              "      <th>DiabetesPedigreeFunction</th>\n",
              "      <th>Age</th>\n",
              "      <th>Outcome</th>\n",
              "      <th>AgeCategory</th>\n",
              "    </tr>\n",
              "  </thead>\n",
              "  <tbody>\n",
              "    <tr>\n",
              "      <th>0</th>\n",
              "      <td>6.0</td>\n",
              "      <td>148</td>\n",
              "      <td>72.0</td>\n",
              "      <td>35.0</td>\n",
              "      <td>29.75</td>\n",
              "      <td>33.6</td>\n",
              "      <td>0.428035</td>\n",
              "      <td>50.0</td>\n",
              "      <td>1</td>\n",
              "      <td>Adult</td>\n",
              "    </tr>\n",
              "    <tr>\n",
              "      <th>1</th>\n",
              "      <td>1.0</td>\n",
              "      <td>85</td>\n",
              "      <td>66.0</td>\n",
              "      <td>29.0</td>\n",
              "      <td>29.75</td>\n",
              "      <td>26.6</td>\n",
              "      <td>0.428035</td>\n",
              "      <td>31.0</td>\n",
              "      <td>0</td>\n",
              "      <td>Adult</td>\n",
              "    </tr>\n",
              "    <tr>\n",
              "      <th>2</th>\n",
              "      <td>8.0</td>\n",
              "      <td>183</td>\n",
              "      <td>64.0</td>\n",
              "      <td>23.0</td>\n",
              "      <td>29.75</td>\n",
              "      <td>23.3</td>\n",
              "      <td>0.428035</td>\n",
              "      <td>32.0</td>\n",
              "      <td>1</td>\n",
              "      <td>Adult</td>\n",
              "    </tr>\n",
              "    <tr>\n",
              "      <th>3</th>\n",
              "      <td>1.0</td>\n",
              "      <td>89</td>\n",
              "      <td>66.0</td>\n",
              "      <td>23.0</td>\n",
              "      <td>94.00</td>\n",
              "      <td>28.1</td>\n",
              "      <td>0.428035</td>\n",
              "      <td>21.0</td>\n",
              "      <td>0</td>\n",
              "      <td>Young</td>\n",
              "    </tr>\n",
              "    <tr>\n",
              "      <th>4</th>\n",
              "      <td>0.0</td>\n",
              "      <td>137</td>\n",
              "      <td>40.0</td>\n",
              "      <td>35.0</td>\n",
              "      <td>168.00</td>\n",
              "      <td>43.1</td>\n",
              "      <td>0.428035</td>\n",
              "      <td>33.0</td>\n",
              "      <td>1</td>\n",
              "      <td>Adult</td>\n",
              "    </tr>\n",
              "  </tbody>\n",
              "</table>\n",
              "</div>\n",
              "      <button class=\"colab-df-convert\" onclick=\"convertToInteractive('df-ead2e7a9-42b9-4392-a065-34ff2a6fd986')\"\n",
              "              title=\"Convert this dataframe to an interactive table.\"\n",
              "              style=\"display:none;\">\n",
              "        \n",
              "  <svg xmlns=\"http://www.w3.org/2000/svg\" height=\"24px\"viewBox=\"0 0 24 24\"\n",
              "       width=\"24px\">\n",
              "    <path d=\"M0 0h24v24H0V0z\" fill=\"none\"/>\n",
              "    <path d=\"M18.56 5.44l.94 2.06.94-2.06 2.06-.94-2.06-.94-.94-2.06-.94 2.06-2.06.94zm-11 1L8.5 8.5l.94-2.06 2.06-.94-2.06-.94L8.5 2.5l-.94 2.06-2.06.94zm10 10l.94 2.06.94-2.06 2.06-.94-2.06-.94-.94-2.06-.94 2.06-2.06.94z\"/><path d=\"M17.41 7.96l-1.37-1.37c-.4-.4-.92-.59-1.43-.59-.52 0-1.04.2-1.43.59L10.3 9.45l-7.72 7.72c-.78.78-.78 2.05 0 2.83L4 21.41c.39.39.9.59 1.41.59.51 0 1.02-.2 1.41-.59l7.78-7.78 2.81-2.81c.8-.78.8-2.07 0-2.86zM5.41 20L4 18.59l7.72-7.72 1.47 1.35L5.41 20z\"/>\n",
              "  </svg>\n",
              "      </button>\n",
              "      \n",
              "  <style>\n",
              "    .colab-df-container {\n",
              "      display:flex;\n",
              "      flex-wrap:wrap;\n",
              "      gap: 12px;\n",
              "    }\n",
              "\n",
              "    .colab-df-convert {\n",
              "      background-color: #E8F0FE;\n",
              "      border: none;\n",
              "      border-radius: 50%;\n",
              "      cursor: pointer;\n",
              "      display: none;\n",
              "      fill: #1967D2;\n",
              "      height: 32px;\n",
              "      padding: 0 0 0 0;\n",
              "      width: 32px;\n",
              "    }\n",
              "\n",
              "    .colab-df-convert:hover {\n",
              "      background-color: #E2EBFA;\n",
              "      box-shadow: 0px 1px 2px rgba(60, 64, 67, 0.3), 0px 1px 3px 1px rgba(60, 64, 67, 0.15);\n",
              "      fill: #174EA6;\n",
              "    }\n",
              "\n",
              "    [theme=dark] .colab-df-convert {\n",
              "      background-color: #3B4455;\n",
              "      fill: #D2E3FC;\n",
              "    }\n",
              "\n",
              "    [theme=dark] .colab-df-convert:hover {\n",
              "      background-color: #434B5C;\n",
              "      box-shadow: 0px 1px 3px 1px rgba(0, 0, 0, 0.15);\n",
              "      filter: drop-shadow(0px 1px 2px rgba(0, 0, 0, 0.3));\n",
              "      fill: #FFFFFF;\n",
              "    }\n",
              "  </style>\n",
              "\n",
              "      <script>\n",
              "        const buttonEl =\n",
              "          document.querySelector('#df-ead2e7a9-42b9-4392-a065-34ff2a6fd986 button.colab-df-convert');\n",
              "        buttonEl.style.display =\n",
              "          google.colab.kernel.accessAllowed ? 'block' : 'none';\n",
              "\n",
              "        async function convertToInteractive(key) {\n",
              "          const element = document.querySelector('#df-ead2e7a9-42b9-4392-a065-34ff2a6fd986');\n",
              "          const dataTable =\n",
              "            await google.colab.kernel.invokeFunction('convertToInteractive',\n",
              "                                                     [key], {});\n",
              "          if (!dataTable) return;\n",
              "\n",
              "          const docLinkHtml = 'Like what you see? Visit the ' +\n",
              "            '<a target=\"_blank\" href=https://colab.research.google.com/notebooks/data_table.ipynb>data table notebook</a>'\n",
              "            + ' to learn more about interactive tables.';\n",
              "          element.innerHTML = '';\n",
              "          dataTable['output_type'] = 'display_data';\n",
              "          await google.colab.output.renderOutput(dataTable, element);\n",
              "          const docLink = document.createElement('div');\n",
              "          docLink.innerHTML = docLinkHtml;\n",
              "          element.appendChild(docLink);\n",
              "        }\n",
              "      </script>\n",
              "    </div>\n",
              "  </div>\n",
              "  "
            ]
          },
          "metadata": {},
          "execution_count": 51
        }
      ],
      "source": [
        "df.head()"
      ]
    },
    {
      "cell_type": "markdown",
      "id": "a100ce34",
      "metadata": {
        "id": "a100ce34"
      },
      "source": [
        "A questo punto rimpiazzo il valore 1 con Adult, e il valore 0 con Young"
      ]
    },
    {
      "cell_type": "code",
      "execution_count": 52,
      "id": "75af21f7",
      "metadata": {
        "id": "75af21f7"
      },
      "outputs": [],
      "source": [
        "def visualize_att_dist(_data, _att, _category=False):\n",
        "    plt.figure(figsize=[12,5], dpi=100)\n",
        "    sns.set(style=\"darkgrid\")  \n",
        "    sns.set(font_scale = 1.5)\n",
        "    if _category: # for categorical attribute\n",
        "        vis_data = _data[_att].value_counts()\n",
        "        ax = sns.barplot(x=vis_data.index, y=vis_data.values);\n",
        "        ax.set_xlabel(_att)\n",
        "        if len(vis_data) >= 5:\n",
        "            ax.set_xticklabels(ax.get_xticklabels(), rotation=45)\n",
        "    else:\n",
        "        ax = sns.distplot(_data[_att], kde=False, color='steelblue');\n",
        "    ax.set_ylabel(\"Count\")\n",
        "    plt.tight_layout()"
      ]
    },
    {
      "cell_type": "code",
      "execution_count": 53,
      "id": "5d5326dd",
      "metadata": {
        "id": "5d5326dd",
        "outputId": "ad4cc714-e948-4e65-c598-09ccd8af3b6d",
        "colab": {
          "base_uri": "https://localhost:8080/",
          "height": 483
        }
      },
      "outputs": [
        {
          "output_type": "display_data",
          "data": {
            "text/plain": [
              "<Figure size 1200x500 with 1 Axes>"
            ],
            "image/png": "[encoded data removed]"
          },
          "metadata": {}
        }
      ],
      "source": [
        "visualize_att_dist(df, \"AgeCategory\", _category=True)"
      ]
    },
    {
      "cell_type": "code",
      "execution_count": 54,
      "id": "f0478bc4",
      "metadata": {
        "id": "f0478bc4"
      },
      "outputs": [],
      "source": [
        "df=df.replace({\"Adult\":1})"
      ]
    },
    {
      "cell_type": "code",
      "execution_count": 55,
      "id": "c5f4cd55",
      "metadata": {
        "id": "c5f4cd55"
      },
      "outputs": [],
      "source": [
        "df=df.replace({\"Young\":0})"
      ]
    },
    {
      "cell_type": "code",
      "execution_count": 56,
      "id": "aeabdf2c",
      "metadata": {
        "id": "aeabdf2c"
      },
      "outputs": [],
      "source": [
        "privileged_age=np.where(df[\"AgeCategory\"]==1)[0]"
      ]
    },
    {
      "cell_type": "code",
      "execution_count": 57,
      "id": "478b5788",
      "metadata": {
        "id": "478b5788"
      },
      "outputs": [],
      "source": [
        "df1=df.copy()"
      ]
    },
    {
      "cell_type": "code",
      "execution_count": 58,
      "id": "51ee7948",
      "metadata": {
        "id": "51ee7948"
      },
      "outputs": [],
      "source": [
        "feature_cols=[\"Pregnancies\",\"Glucose\",\"BloodPressure\",\"SkinThickness\",\"Insulin\",\"BMI\",\"DiabetesPedigreeFunction\",\"Age\",\"AgeCategory\"]\n",
        "X=df[feature_cols]\n",
        "y=df[\"Outcome\"]\n"
      ]
    },
    {
      "cell_type": "code",
      "execution_count": 59,
      "id": "32c94b6c",
      "metadata": {
        "id": "32c94b6c"
      },
      "outputs": [],
      "source": [
        "X_train, X_test, y_train, y_test = train_test_split(X, y, test_size=0.3, random_state=1)"
      ]
    },
    {
      "cell_type": "code",
      "execution_count": 60,
      "id": "272b9db0",
      "metadata": {
        "id": "272b9db0"
      },
      "outputs": [],
      "source": [
        "classifier = DecisionTreeClassifier()\n",
        "classifier=classifier.fit(X_train,y_train)\n",
        "y_pred = classifier.predict(X_test)"
      ]
    },
    {
      "cell_type": "code",
      "execution_count": 61,
      "id": "22d33d93",
      "metadata": {
        "id": "22d33d93"
      },
      "outputs": [],
      "source": [
        "age=df[\"AgeCategory\"]\n",
        "df1=df.copy()\n",
        "df1=df1.reset_index()\n",
        "X_test_reset=X_test.reset_index()\n",
        "X_list=list(X_test_reset[\"index\"])\n",
        "y_true=df[\"Outcome\"].loc[X_list]\n",
        "age=df[\"AgeCategory\"].loc[X_list]"
      ]
    },
    {
      "cell_type": "code",
      "execution_count": 62,
      "id": "22cd4b14",
      "metadata": {
        "id": "22cd4b14"
      },
      "outputs": [],
      "source": [
        "from fairlearn.metrics import (\n",
        "    MetricFrame,\n",
        "    count,\n",
        "    false_negative_rate,\n",
        "    false_positive_rate,\n",
        "    selection_rate,\n",
        ")"
      ]
    },
    {
      "cell_type": "code",
      "execution_count": 63,
      "id": "b4eeb346",
      "metadata": {
        "id": "b4eeb346"
      },
      "outputs": [],
      "source": [
        "metrics = {\n",
        "    \"accuracy\": accuracy_score,\n",
        "    \"precision\": precision_score,\n",
        "    \"false positive rate\": false_positive_rate,\n",
        "    \"false negative rate\": false_negative_rate,\n",
        "    \"true positive rate\": recall_score,\n",
        "    \"selection rate\": selection_rate,\n",
        "    \"count\": count,\n",
        "}"
      ]
    },
    {
      "cell_type": "code",
      "execution_count": 64,
      "id": "fd8ab412",
      "metadata": {
        "id": "fd8ab412"
      },
      "outputs": [],
      "source": [
        "metric_frame = MetricFrame(\n",
        "    metrics=metrics, y_true=y_true, y_pred=y_pred, sensitive_features=age\n",
        ")"
      ]
    },
    {
      "cell_type": "code",
      "execution_count": 65,
      "id": "7f35d4fc",
      "metadata": {
        "id": "7f35d4fc",
        "outputId": "a39267b3-4085-4a8b-a9b0-fae9b0c0d2b8",
        "colab": {
          "base_uri": "https://localhost:8080/",
          "height": 742
        }
      },
      "outputs": [
        {
          "output_type": "execute_result",
          "data": {
            "text/plain": [
              "array([[<matplotlib.axes._subplots.AxesSubplot object at 0x7f1b90dbc2e0>,\n",
              "        <matplotlib.axes._subplots.AxesSubplot object at 0x7f1b90de76a0>,\n",
              "        <matplotlib.axes._subplots.AxesSubplot object at 0x7f1b90d858b0>],\n",
              "       [<matplotlib.axes._subplots.AxesSubplot object at 0x7f1b90d359d0>,\n",
              "        <matplotlib.axes._subplots.AxesSubplot object at 0x7f1b90d64af0>,\n",
              "        <matplotlib.axes._subplots.AxesSubplot object at 0x7f1b90d12c10>],\n",
              "       [<matplotlib.axes._subplots.AxesSubplot object at 0x7f1b90d1ebb0>,\n",
              "        <matplotlib.axes._subplots.AxesSubplot object at 0x7f1b90c80df0>,\n",
              "        <matplotlib.axes._subplots.AxesSubplot object at 0x7f1b90cad2b0>]],\n",
              "      dtype=object)"
            ]
          },
          "metadata": {},
          "execution_count": 65
        },
        {
          "output_type": "display_data",
          "data": {
            "text/plain": [
              "<Figure size 864x576 with 9 Axes>"
            ],
            "image/png": "[encoded data removed]"
          },
          "metadata": {}
        }
      ],
      "source": [
        "metric_frame.by_group.plot.bar(\n",
        "    subplots=True,\n",
        "    layout=[3, 3],\n",
        "    legend=False,\n",
        "    figsize=[12, 8],\n",
        "    title=\"Show all metrics\",\n",
        ")\n"
      ]
    },
    {
      "cell_type": "markdown",
      "id": "cd0eddde",
      "metadata": {
        "id": "cd0eddde"
      },
      "source": [
        "TPR= P( Y=1 | y=1)[Adult] > P(Y=1|y=1)[Young]"
      ]
    },
    {
      "cell_type": "markdown",
      "id": "15181f85",
      "metadata": {
        "id": "15181f85"
      },
      "source": [
        "FPR=P(Y=1|y=0)[Adult]>P(Y=1|y=0)[Young]"
      ]
    },
    {
      "cell_type": "markdown",
      "id": "36c5b6af",
      "metadata": {
        "id": "36c5b6af"
      },
      "source": [
        "FNR=P(Y=0|y=1)[Young]>P(Y=1|y=0)[Adult]"
      ]
    },
    {
      "cell_type": "markdown",
      "id": "63926fc7",
      "metadata": {
        "id": "63926fc7"
      },
      "source": [
        "SR= P(Y=1)"
      ]
    },
    {
      "cell_type": "code",
      "execution_count": 66,
      "id": "219a03df",
      "metadata": {
        "id": "219a03df",
        "outputId": "1469fe30-ad47-48c6-8a42-c80d6f414e87",
        "colab": {
          "base_uri": "https://localhost:8080/"
        }
      },
      "outputs": [
        {
          "output_type": "stream",
          "name": "stdout",
          "text": [
            "             accuracy  precision  false positive rate  false negative rate  \\\n",
            "AgeCategory                                                                  \n",
            "0            0.807229      0.500             0.089552                0.625   \n",
            "1            0.671233      0.625             0.292683                0.375   \n",
            "\n",
            "             true positive rate  selection rate  count  \n",
            "AgeCategory                                             \n",
            "0                         0.375        0.144578   83.0  \n",
            "1                         0.625        0.438356  146.0  \n"
          ]
        }
      ],
      "source": [
        "x=metric_frame.by_group\n",
        "print(metric_frame.by_group)"
      ]
    },
    {
      "cell_type": "code",
      "execution_count": 67,
      "id": "3ec803f7",
      "metadata": {
        "id": "3ec803f7",
        "outputId": "0ab827ea-15e6-4542-e851-3ace31d754f4",
        "colab": {
          "base_uri": "https://localhost:8080/"
        }
      },
      "outputs": [
        {
          "output_type": "stream",
          "name": "stdout",
          "text": [
            "0.29377785113054955\n"
          ]
        }
      ],
      "source": [
        "dem_parity=demographic_parity_difference(y_true,y_pred,sensitive_features=age)\n",
        "print(demographic_parity_difference(y_true,y_pred,sensitive_features=age))"
      ]
    },
    {
      "cell_type": "code",
      "execution_count": 68,
      "id": "2815e192",
      "metadata": {
        "id": "2815e192",
        "outputId": "1cbf97a8-b2c9-4551-b75f-a7bd5b634052",
        "colab": {
          "base_uri": "https://localhost:8080/"
        }
      },
      "outputs": [
        {
          "output_type": "stream",
          "name": "stdout",
          "text": [
            "0.25\n"
          ]
        }
      ],
      "source": [
        "equalize_odds=equalized_odds_difference(y_true, y_pred, sensitive_features=age)\n",
        "print(equalized_odds_difference(y_true, y_pred, sensitive_features=age))"
      ]
    },
    {
      "cell_type": "code",
      "execution_count": 69,
      "id": "94410ec7",
      "metadata": {
        "id": "94410ec7",
        "outputId": "478931e5-ffee-466c-9772-b6f593d10dca",
        "colab": {
          "base_uri": "https://localhost:8080/"
        }
      },
      "outputs": [
        {
          "output_type": "execute_result",
          "data": {
            "text/plain": [
              "AgeCategory\n",
              "0    0.375\n",
              "1    0.625\n",
              "Name: true positive rate, dtype: float64"
            ]
          },
          "metadata": {},
          "execution_count": 69
        }
      ],
      "source": [
        "x[\"true positive rate\"]"
      ]
    },
    {
      "cell_type": "code",
      "execution_count": 70,
      "id": "61e68dea",
      "metadata": {
        "id": "61e68dea",
        "outputId": "7cfe6380-d939-4ebb-e6b3-0cfcde0255ec",
        "colab": {
          "base_uri": "https://localhost:8080/"
        }
      },
      "outputs": [
        {
          "output_type": "stream",
          "name": "stdout",
          "text": [
            "l'equal opportunity vale  0.25\n"
          ]
        }
      ],
      "source": [
        "equal_opportunity=x[\"true positive rate\"][1]-x[\"true positive rate\"][0]\n",
        "print(\"l'equal opportunity vale \",equal_opportunity)"
      ]
    },
    {
      "cell_type": "code",
      "execution_count": 70,
      "id": "f1651964",
      "metadata": {
        "id": "f1651964"
      },
      "outputs": [],
      "source": []
    },
    {
      "cell_type": "markdown",
      "source": [
        "# **Mitigation**"
      ],
      "metadata": {
        "id": "4Y-XjrKVVxbU"
      },
      "id": "4Y-XjrKVVxbU"
    },
    {
      "cell_type": "markdown",
      "source": [
        "For the mitigation i'll use the Correlation Remover algorithm.\n",
        "\n",
        "A component that filters out sensitive correlations in a dataset.\n",
        "\n",
        "CorrelationRemover applies a linear transformation to the non-sensitive feature columns in order to remove their correlation with the sensitive feature columns while retaining as much information as possible (as measured by the least-squares error)."
      ],
      "metadata": {
        "id": "T7MwqysvV3vq"
      },
      "id": "T7MwqysvV3vq"
    },
    {
      "cell_type": "code",
      "source": [
        "from fairlearn.preprocessing import CorrelationRemover"
      ],
      "metadata": {
        "id": "stNLy_Z3V-DI"
      },
      "id": "stNLy_Z3V-DI",
      "execution_count": 71,
      "outputs": []
    },
    {
      "cell_type": "code",
      "source": [
        "cr = CorrelationRemover(sensitive_feature_ids=[\"AgeCategory\"])"
      ],
      "metadata": {
        "id": "gav9OQQzX1YY"
      },
      "id": "gav9OQQzX1YY",
      "execution_count": 72,
      "outputs": []
    },
    {
      "cell_type": "code",
      "source": [
        "X_cr = cr.fit_transform(df)"
      ],
      "metadata": {
        "id": "j_57FdoxYCAN"
      },
      "id": "j_57FdoxYCAN",
      "execution_count": 73,
      "outputs": []
    },
    {
      "cell_type": "code",
      "source": [
        "cr_alpha = CorrelationRemover(sensitive_feature_ids=['AgeCategory'], alpha=0.5)"
      ],
      "metadata": {
        "id": "7MOJTRo0YYRv"
      },
      "id": "7MOJTRo0YYRv",
      "execution_count": 74,
      "outputs": []
    },
    {
      "cell_type": "code",
      "source": [
        "X_cr_alpha = cr_alpha.fit_transform(df)"
      ],
      "metadata": {
        "id": "sBnoU5SVYdZX"
      },
      "id": "sBnoU5SVYdZX",
      "execution_count": 75,
      "outputs": []
    },
    {
      "cell_type": "code",
      "source": [
        "df.columns"
      ],
      "metadata": {
        "colab": {
          "base_uri": "https://localhost:8080/"
        },
        "id": "_oABUXsTZg4V",
        "outputId": "b47d1811-bb6c-42c2-c5d5-18993d804391"
      },
      "id": "_oABUXsTZg4V",
      "execution_count": 76,
      "outputs": [
        {
          "output_type": "execute_result",
          "data": {
            "text/plain": [
              "Index(['Pregnancies', 'Glucose', 'BloodPressure', 'SkinThickness', 'Insulin',\n",
              "       'BMI', 'DiabetesPedigreeFunction', 'Age', 'Outcome', 'AgeCategory'],\n",
              "      dtype='object')"
            ]
          },
          "metadata": {},
          "execution_count": 76
        }
      ]
    },
    {
      "cell_type": "code",
      "source": [
        "X_cr = pd.DataFrame(X_cr, columns=['Pregnancies', 'Glucose', 'BloodPressure', 'SkinThickness', 'Insulin',\n",
        "       'BMI', 'DiabetesPedigreeFunction', 'Age', 'Outcome'])"
      ],
      "metadata": {
        "id": "cmjdqoQLZHEE"
      },
      "id": "cmjdqoQLZHEE",
      "execution_count": 77,
      "outputs": []
    },
    {
      "cell_type": "code",
      "source": [
        "X_cr[\"AgeCategory\"] = df[\"AgeCategory\"]\n"
      ],
      "metadata": {
        "id": "CFh-lp7qc5IL"
      },
      "id": "CFh-lp7qc5IL",
      "execution_count": 78,
      "outputs": []
    },
    {
      "cell_type": "code",
      "source": [
        "X_cr_alpha = pd.DataFrame(X_cr_alpha, columns=['Pregnancies', 'Glucose', 'BloodPressure', 'SkinThickness', 'Insulin',\n",
        "       'BMI', 'DiabetesPedigreeFunction', 'Age', 'Outcome'])"
      ],
      "metadata": {
        "id": "Sk7NStX8ZuW2"
      },
      "id": "Sk7NStX8ZuW2",
      "execution_count": 79,
      "outputs": []
    },
    {
      "cell_type": "code",
      "source": [
        "X_cr_alpha[\"AgeCategory\"] = df[\"AgeCategory\"]"
      ],
      "metadata": {
        "id": "eob-zRywc-YO"
      },
      "id": "eob-zRywc-YO",
      "execution_count": 80,
      "outputs": []
    },
    {
      "cell_type": "code",
      "source": [
        "def plot_heatmap(df, title):\n",
        "    df['Outcome'] = y\n",
        "    cols = list(df.columns)\n",
        "\n",
        "    fig, ax = plt.subplots(figsize=(8, 6))\n",
        "    ax.imshow(round(df.corr(), 2), cmap=\"coolwarm\")\n",
        "\n",
        "    # Show all ticks and label them with the respective list entries\n",
        "    ax.set_xticks(np.arange(len(cols)))\n",
        "    ax.set_yticks(np.arange(len(cols)))\n",
        "\n",
        "    # Rotate the tick labels and set their alignment.\n",
        "    plt.setp(ax.get_xticklabels(), rotation=15, ha=\"right\", rotation_mode=\"anchor\")\n",
        "\n",
        "    # Loop over data dimensions and create text annotations.\n",
        "    for i in range(len(cols)):\n",
        "        for j in range(len(cols)):\n",
        "            ax.text(\n",
        "                j,\n",
        "                i,\n",
        "                round(df.corr().to_numpy()[i, j], 2),\n",
        "                ha=\"center\",\n",
        "                va=\"center\",\n",
        "            )\n",
        "\n",
        "    ax.set_title(f\"{title}\")\n",
        "    plt.show()\n",
        "\n",
        "\n",
        "plot_heatmap(df, \"Correlation values in the original dataset\")\n",
        "plot_heatmap(X_cr, \"Correlation values after CorrelationRemover\")\n",
        "plot_heatmap(X_cr_alpha, \"Correlation values after CorrelationRemover with alpha = 0.5\")"
      ],
      "metadata": {
        "colab": {
          "base_uri": "https://localhost:8080/",
          "height": 89
        },
        "id": "4zOGW1paYlB4",
        "outputId": "a941e3ea-dfc1-40cd-ec03-7833a65bdd7e"
      },
      "id": "4zOGW1paYlB4",
      "execution_count": 81,
      "outputs": [
        {
          "output_type": "display_data",
          "data": {
            "text/plain": [
              "<Figure size 576x432 with 1 Axes>"
            ],
            "image/png": "[encoded data removed]"
          },
          "metadata": {}
        },
        {
          "output_type": "display_data",
          "data": {
            "text/plain": [
              "<Figure size 576x432 with 1 Axes>"
            ],
            "image/png": "[encoded data removed]"
          },
          "metadata": {}
        },
        {
          "output_type": "display_data",
          "data": {
            "text/plain": [
              "<Figure size 576x432 with 1 Axes>"
            ],
            "image/png": "[encoded data removed]"
          },
          "metadata": {}
        }
      ]
    },
    {
      "cell_type": "markdown",
      "source": [
        "# Metric Values after Correlation Remover\n"
      ],
      "metadata": {
        "id": "sQmjw5GycAS0"
      },
      "id": "sQmjw5GycAS0"
    },
    {
      "cell_type": "code",
      "source": [
        "X_cr_alpha"
      ],
      "metadata": {
        "colab": {
          "base_uri": "https://localhost:8080/",
          "height": 423
        },
        "id": "e7F2TKlOcImw",
        "outputId": "dc2cb352-ec0f-4f9c-fbb6-f2fd9042011e"
      },
      "id": "e7F2TKlOcImw",
      "execution_count": 82,
      "outputs": [
        {
          "output_type": "execute_result",
          "data": {
            "text/plain": [
              "     Pregnancies     Glucose  BloodPressure  SkinThickness     Insulin  \\\n",
              "0       5.407521  145.431558      70.761665      34.683238   30.091438   \n",
              "1       0.407521   82.431558      64.761665      28.683238   30.091438   \n",
              "2       7.407521  180.431558      62.761665      22.683238   30.091438   \n",
              "3       2.119874   93.854745      68.340641      23.598728   93.354630   \n",
              "4      -0.592479  134.431558      38.761665      34.683238  168.341438   \n",
              "..           ...         ...            ...            ...         ...   \n",
              "758     9.407521   98.431558      74.761665      47.683238  180.341438   \n",
              "759     1.407521  119.431558      68.761665      26.683238   30.091438   \n",
              "760     4.407521  118.431558      70.761665      22.683238  112.341438   \n",
              "761     0.407521  123.431558      58.761665      22.683238   30.091438   \n",
              "762     2.119874   97.854745      72.340641      31.598728   29.104630   \n",
              "\n",
              "           BMI  DiabetesPedigreeFunction        Age  Outcome  AgeCategory  \n",
              "0    33.251156                  0.426218  47.358770      1.0          1.0  \n",
              "1    26.251156                  0.426218  28.358770      0.0          1.0  \n",
              "2    22.951156                  0.426218  29.358770      1.0          1.0  \n",
              "3    28.759369                  0.431471  25.992325      0.0          0.0  \n",
              "4    42.751156                  0.426218  30.358770      1.0          1.0  \n",
              "..         ...                       ...        ...      ...          ...  \n",
              "758  32.551156                  0.426218  60.358770      0.0          1.0  \n",
              "759  36.451156                  0.426218  24.358770      1.0          1.0  \n",
              "760  25.851156                  0.426218  27.358770      0.0          0.0  \n",
              "761  29.751156                  0.426218  44.358770      1.0          1.0  \n",
              "762  31.059369                  0.431471  27.992325      0.0          1.0  \n",
              "\n",
              "[763 rows x 10 columns]"
            ],
            "text/html": [
              "\n",
              "  <div id=\"df-adb1dc18-0681-4bec-a6f9-1a291b97d103\">\n",
              "    <div class=\"colab-df-container\">\n",
              "      <div>\n",
              "<style scoped>\n",
              "    .dataframe tbody tr th:only-of-type {\n",
              "        vertical-align: middle;\n",
              "    }\n",
              "\n",
              "    .dataframe tbody tr th {\n",
              "        vertical-align: top;\n",
              "    }\n",
              "\n",
              "    .dataframe thead th {\n",
              "        text-align: right;\n",
              "    }\n",
              "</style>\n",
              "<table border=\"1\" class=\"dataframe\">\n",
              "  <thead>\n",
              "    <tr style=\"text-align: right;\">\n",
              "      <th></th>\n",
              "      <th>Pregnancies</th>\n",
              "      <th>Glucose</th>\n",
              "      <th>BloodPressure</th>\n",
              "      <th>SkinThickness</th>\n",
              "      <th>Insulin</th>\n",
              "      <th>BMI</th>\n",
              "      <th>DiabetesPedigreeFunction</th>\n",
              "      <th>Age</th>\n",
              "      <th>Outcome</th>\n",
              "      <th>AgeCategory</th>\n",
              "    </tr>\n",
              "  </thead>\n",
              "  <tbody>\n",
              "    <tr>\n",
              "      <th>0</th>\n",
              "      <td>5.407521</td>\n",
              "      <td>145.431558</td>\n",
              "      <td>70.761665</td>\n",
              "      <td>34.683238</td>\n",
              "      <td>30.091438</td>\n",
              "      <td>33.251156</td>\n",
              "      <td>0.426218</td>\n",
              "      <td>47.358770</td>\n",
              "      <td>1.0</td>\n",
              "      <td>1.0</td>\n",
              "    </tr>\n",
              "    <tr>\n",
              "      <th>1</th>\n",
              "      <td>0.407521</td>\n",
              "      <td>82.431558</td>\n",
              "      <td>64.761665</td>\n",
              "      <td>28.683238</td>\n",
              "      <td>30.091438</td>\n",
              "      <td>26.251156</td>\n",
              "      <td>0.426218</td>\n",
              "      <td>28.358770</td>\n",
              "      <td>0.0</td>\n",
              "      <td>1.0</td>\n",
              "    </tr>\n",
              "    <tr>\n",
              "      <th>2</th>\n",
              "      <td>7.407521</td>\n",
              "      <td>180.431558</td>\n",
              "      <td>62.761665</td>\n",
              "      <td>22.683238</td>\n",
              "      <td>30.091438</td>\n",
              "      <td>22.951156</td>\n",
              "      <td>0.426218</td>\n",
              "      <td>29.358770</td>\n",
              "      <td>1.0</td>\n",
              "      <td>1.0</td>\n",
              "    </tr>\n",
              "    <tr>\n",
              "      <th>3</th>\n",
              "      <td>2.119874</td>\n",
              "      <td>93.854745</td>\n",
              "      <td>68.340641</td>\n",
              "      <td>23.598728</td>\n",
              "      <td>93.354630</td>\n",
              "      <td>28.759369</td>\n",
              "      <td>0.431471</td>\n",
              "      <td>25.992325</td>\n",
              "      <td>0.0</td>\n",
              "      <td>0.0</td>\n",
              "    </tr>\n",
              "    <tr>\n",
              "      <th>4</th>\n",
              "      <td>-0.592479</td>\n",
              "      <td>134.431558</td>\n",
              "      <td>38.761665</td>\n",
              "      <td>34.683238</td>\n",
              "      <td>168.341438</td>\n",
              "      <td>42.751156</td>\n",
              "      <td>0.426218</td>\n",
              "      <td>30.358770</td>\n",
              "      <td>1.0</td>\n",
              "      <td>1.0</td>\n",
              "    </tr>\n",
              "    <tr>\n",
              "      <th>...</th>\n",
              "      <td>...</td>\n",
              "      <td>...</td>\n",
              "      <td>...</td>\n",
              "      <td>...</td>\n",
              "      <td>...</td>\n",
              "      <td>...</td>\n",
              "      <td>...</td>\n",
              "      <td>...</td>\n",
              "      <td>...</td>\n",
              "      <td>...</td>\n",
              "    </tr>\n",
              "    <tr>\n",
              "      <th>758</th>\n",
              "      <td>9.407521</td>\n",
              "      <td>98.431558</td>\n",
              "      <td>74.761665</td>\n",
              "      <td>47.683238</td>\n",
              "      <td>180.341438</td>\n",
              "      <td>32.551156</td>\n",
              "      <td>0.426218</td>\n",
              "      <td>60.358770</td>\n",
              "      <td>0.0</td>\n",
              "      <td>1.0</td>\n",
              "    </tr>\n",
              "    <tr>\n",
              "      <th>759</th>\n",
              "      <td>1.407521</td>\n",
              "      <td>119.431558</td>\n",
              "      <td>68.761665</td>\n",
              "      <td>26.683238</td>\n",
              "      <td>30.091438</td>\n",
              "      <td>36.451156</td>\n",
              "      <td>0.426218</td>\n",
              "      <td>24.358770</td>\n",
              "      <td>1.0</td>\n",
              "      <td>1.0</td>\n",
              "    </tr>\n",
              "    <tr>\n",
              "      <th>760</th>\n",
              "      <td>4.407521</td>\n",
              "      <td>118.431558</td>\n",
              "      <td>70.761665</td>\n",
              "      <td>22.683238</td>\n",
              "      <td>112.341438</td>\n",
              "      <td>25.851156</td>\n",
              "      <td>0.426218</td>\n",
              "      <td>27.358770</td>\n",
              "      <td>0.0</td>\n",
              "      <td>0.0</td>\n",
              "    </tr>\n",
              "    <tr>\n",
              "      <th>761</th>\n",
              "      <td>0.407521</td>\n",
              "      <td>123.431558</td>\n",
              "      <td>58.761665</td>\n",
              "      <td>22.683238</td>\n",
              "      <td>30.091438</td>\n",
              "      <td>29.751156</td>\n",
              "      <td>0.426218</td>\n",
              "      <td>44.358770</td>\n",
              "      <td>1.0</td>\n",
              "      <td>1.0</td>\n",
              "    </tr>\n",
              "    <tr>\n",
              "      <th>762</th>\n",
              "      <td>2.119874</td>\n",
              "      <td>97.854745</td>\n",
              "      <td>72.340641</td>\n",
              "      <td>31.598728</td>\n",
              "      <td>29.104630</td>\n",
              "      <td>31.059369</td>\n",
              "      <td>0.431471</td>\n",
              "      <td>27.992325</td>\n",
              "      <td>0.0</td>\n",
              "      <td>1.0</td>\n",
              "    </tr>\n",
              "  </tbody>\n",
              "</table>\n",
              "<p>763 rows × 10 columns</p>\n",
              "</div>\n",
              "      <button class=\"colab-df-convert\" onclick=\"convertToInteractive('df-adb1dc18-0681-4bec-a6f9-1a291b97d103')\"\n",
              "              title=\"Convert this dataframe to an interactive table.\"\n",
              "              style=\"display:none;\">\n",
              "        \n",
              "  <svg xmlns=\"http://www.w3.org/2000/svg\" height=\"24px\"viewBox=\"0 0 24 24\"\n",
              "       width=\"24px\">\n",
              "    <path d=\"M0 0h24v24H0V0z\" fill=\"none\"/>\n",
              "    <path d=\"M18.56 5.44l.94 2.06.94-2.06 2.06-.94-2.06-.94-.94-2.06-.94 2.06-2.06.94zm-11 1L8.5 8.5l.94-2.06 2.06-.94-2.06-.94L8.5 2.5l-.94 2.06-2.06.94zm10 10l.94 2.06.94-2.06 2.06-.94-2.06-.94-.94-2.06-.94 2.06-2.06.94z\"/><path d=\"M17.41 7.96l-1.37-1.37c-.4-.4-.92-.59-1.43-.59-.52 0-1.04.2-1.43.59L10.3 9.45l-7.72 7.72c-.78.78-.78 2.05 0 2.83L4 21.41c.39.39.9.59 1.41.59.51 0 1.02-.2 1.41-.59l7.78-7.78 2.81-2.81c.8-.78.8-2.07 0-2.86zM5.41 20L4 18.59l7.72-7.72 1.47 1.35L5.41 20z\"/>\n",
              "  </svg>\n",
              "      </button>\n",
              "      \n",
              "  <style>\n",
              "    .colab-df-container {\n",
              "      display:flex;\n",
              "      flex-wrap:wrap;\n",
              "      gap: 12px;\n",
              "    }\n",
              "\n",
              "    .colab-df-convert {\n",
              "      background-color: #E8F0FE;\n",
              "      border: none;\n",
              "      border-radius: 50%;\n",
              "      cursor: pointer;\n",
              "      display: none;\n",
              "      fill: #1967D2;\n",
              "      height: 32px;\n",
              "      padding: 0 0 0 0;\n",
              "      width: 32px;\n",
              "    }\n",
              "\n",
              "    .colab-df-convert:hover {\n",
              "      background-color: #E2EBFA;\n",
              "      box-shadow: 0px 1px 2px rgba(60, 64, 67, 0.3), 0px 1px 3px 1px rgba(60, 64, 67, 0.15);\n",
              "      fill: #174EA6;\n",
              "    }\n",
              "\n",
              "    [theme=dark] .colab-df-convert {\n",
              "      background-color: #3B4455;\n",
              "      fill: #D2E3FC;\n",
              "    }\n",
              "\n",
              "    [theme=dark] .colab-df-convert:hover {\n",
              "      background-color: #434B5C;\n",
              "      box-shadow: 0px 1px 3px 1px rgba(0, 0, 0, 0.15);\n",
              "      filter: drop-shadow(0px 1px 2px rgba(0, 0, 0, 0.3));\n",
              "      fill: #FFFFFF;\n",
              "    }\n",
              "  </style>\n",
              "\n",
              "      <script>\n",
              "        const buttonEl =\n",
              "          document.querySelector('#df-adb1dc18-0681-4bec-a6f9-1a291b97d103 button.colab-df-convert');\n",
              "        buttonEl.style.display =\n",
              "          google.colab.kernel.accessAllowed ? 'block' : 'none';\n",
              "\n",
              "        async function convertToInteractive(key) {\n",
              "          const element = document.querySelector('#df-adb1dc18-0681-4bec-a6f9-1a291b97d103');\n",
              "          const dataTable =\n",
              "            await google.colab.kernel.invokeFunction('convertToInteractive',\n",
              "                                                     [key], {});\n",
              "          if (!dataTable) return;\n",
              "\n",
              "          const docLinkHtml = 'Like what you see? Visit the ' +\n",
              "            '<a target=\"_blank\" href=https://colab.research.google.com/notebooks/data_table.ipynb>data table notebook</a>'\n",
              "            + ' to learn more about interactive tables.';\n",
              "          element.innerHTML = '';\n",
              "          dataTable['output_type'] = 'display_data';\n",
              "          await google.colab.output.renderOutput(dataTable, element);\n",
              "          const docLink = document.createElement('div');\n",
              "          docLink.innerHTML = docLinkHtml;\n",
              "          element.appendChild(docLink);\n",
              "        }\n",
              "      </script>\n",
              "    </div>\n",
              "  </div>\n",
              "  "
            ]
          },
          "metadata": {},
          "execution_count": 82
        }
      ]
    },
    {
      "cell_type": "code",
      "source": [
        "X=X_cr_alpha[feature_cols]\n",
        "y=X_cr_alpha[\"Outcome\"]"
      ],
      "metadata": {
        "id": "SqSpRu1idXHX"
      },
      "id": "SqSpRu1idXHX",
      "execution_count": 83,
      "outputs": []
    },
    {
      "cell_type": "code",
      "source": [
        "X_train, X_test, y_train, y_test = train_test_split(X, y, test_size=0.3, random_state=1)"
      ],
      "metadata": {
        "id": "DqgwifbUdinS"
      },
      "id": "DqgwifbUdinS",
      "execution_count": 84,
      "outputs": []
    },
    {
      "cell_type": "code",
      "source": [
        "from sklearn.preprocessing import MinMaxScaler\n",
        "scaler = MinMaxScaler()\n",
        "scaledXtrain = scaler.fit_transform(X_train)\n",
        "scaledXtest = scaler.fit_transform(X_test)\n",
        "scaled_Xtrain = pd.DataFrame(scaledXtrain, columns=X_train.columns)\n",
        "scaled_Xtest = pd.DataFrame(scaledXtrain, columns=X_train.columns)"
      ],
      "metadata": {
        "id": "xkmscgqweJxS"
      },
      "id": "xkmscgqweJxS",
      "execution_count": 85,
      "outputs": []
    },
    {
      "cell_type": "code",
      "source": [
        "scaled_Xtrain"
      ],
      "metadata": {
        "colab": {
          "base_uri": "https://localhost:8080/",
          "height": 423
        },
        "id": "T39gJ9sUgCfM",
        "outputId": "1ecdb6cc-cae6-417b-8c5c-cd7e1dcfd70e"
      },
      "id": "T39gJ9sUgCfM",
      "execution_count": 86,
      "outputs": [
        {
          "output_type": "execute_result",
          "data": {
            "text/plain": [
              "     Pregnancies   Glucose  BloodPressure  SkinThickness   Insulin       BMI  \\\n",
              "0       0.384615  0.270897       0.588235       0.404108  0.054877  0.298413   \n",
              "1       0.692308  0.621832       0.617647       0.685226  0.383580  0.625397   \n",
              "2       0.384615  0.634146       0.588235       0.281119  0.054877  0.492063   \n",
              "3       0.538462  0.430973       0.558824       0.175699  0.318003  0.177778   \n",
              "4       0.285566  0.273503       0.552632       0.156644  0.203287  0.409785   \n",
              "..           ...       ...            ...            ...       ...       ...   \n",
              "529     0.208643  0.335070       0.287926       0.332343  0.281979  0.254229   \n",
              "530     0.307692  0.240114       0.705882       0.210839  0.054877  0.352381   \n",
              "531     1.000000  0.504854       0.764706       0.281119  0.054877  0.800000   \n",
              "532     0.131719  0.876865       0.817338       0.367483  0.051642  0.854229   \n",
              "533     0.692308  0.357092       0.558824       0.527097  0.054877  0.466667   \n",
              "\n",
              "     DiabetesPedigreeFunction       Age  AgeCategory  \n",
              "0                    0.000000  0.275000          1.0  \n",
              "1                    0.000000  0.350000          1.0  \n",
              "2                    0.000000  0.975000          1.0  \n",
              "3                    0.000000  0.125000          1.0  \n",
              "4                    0.006885  0.165839          1.0  \n",
              "..                        ...       ...          ...  \n",
              "529                  0.006885  0.115839          1.0  \n",
              "530                  0.000000  0.200000          1.0  \n",
              "531                  0.000000  0.400000          1.0  \n",
              "532                  0.006885  0.115839          1.0  \n",
              "533                  0.000000  0.500000          1.0  \n",
              "\n",
              "[534 rows x 9 columns]"
            ],
            "text/html": [
              "\n",
              "  <div id=\"df-b943dddf-49ee-46e9-a805-a84c64ebe046\">\n",
              "    <div class=\"colab-df-container\">\n",
              "      <div>\n",
              "<style scoped>\n",
              "    .dataframe tbody tr th:only-of-type {\n",
              "        vertical-align: middle;\n",
              "    }\n",
              "\n",
              "    .dataframe tbody tr th {\n",
              "        vertical-align: top;\n",
              "    }\n",
              "\n",
              "    .dataframe thead th {\n",
              "        text-align: right;\n",
              "    }\n",
              "</style>\n",
              "<table border=\"1\" class=\"dataframe\">\n",
              "  <thead>\n",
              "    <tr style=\"text-align: right;\">\n",
              "      <th></th>\n",
              "      <th>Pregnancies</th>\n",
              "      <th>Glucose</th>\n",
              "      <th>BloodPressure</th>\n",
              "      <th>SkinThickness</th>\n",
              "      <th>Insulin</th>\n",
              "      <th>BMI</th>\n",
              "      <th>DiabetesPedigreeFunction</th>\n",
              "      <th>Age</th>\n",
              "      <th>AgeCategory</th>\n",
              "    </tr>\n",
              "  </thead>\n",
              "  <tbody>\n",
              "    <tr>\n",
              "      <th>0</th>\n",
              "      <td>0.384615</td>\n",
              "      <td>0.270897</td>\n",
              "      <td>0.588235</td>\n",
              "      <td>0.404108</td>\n",
              "      <td>0.054877</td>\n",
              "      <td>0.298413</td>\n",
              "      <td>0.000000</td>\n",
              "      <td>0.275000</td>\n",
              "      <td>1.0</td>\n",
              "    </tr>\n",
              "    <tr>\n",
              "      <th>1</th>\n",
              "      <td>0.692308</td>\n",
              "      <td>0.621832</td>\n",
              "      <td>0.617647</td>\n",
              "      <td>0.685226</td>\n",
              "      <td>0.383580</td>\n",
              "      <td>0.625397</td>\n",
              "      <td>0.000000</td>\n",
              "      <td>0.350000</td>\n",
              "      <td>1.0</td>\n",
              "    </tr>\n",
              "    <tr>\n",
              "      <th>2</th>\n",
              "      <td>0.384615</td>\n",
              "      <td>0.634146</td>\n",
              "      <td>0.588235</td>\n",
              "      <td>0.281119</td>\n",
              "      <td>0.054877</td>\n",
              "      <td>0.492063</td>\n",
              "      <td>0.000000</td>\n",
              "      <td>0.975000</td>\n",
              "      <td>1.0</td>\n",
              "    </tr>\n",
              "    <tr>\n",
              "      <th>3</th>\n",
              "      <td>0.538462</td>\n",
              "      <td>0.430973</td>\n",
              "      <td>0.558824</td>\n",
              "      <td>0.175699</td>\n",
              "      <td>0.318003</td>\n",
              "      <td>0.177778</td>\n",
              "      <td>0.000000</td>\n",
              "      <td>0.125000</td>\n",
              "      <td>1.0</td>\n",
              "    </tr>\n",
              "    <tr>\n",
              "      <th>4</th>\n",
              "      <td>0.285566</td>\n",
              "      <td>0.273503</td>\n",
              "      <td>0.552632</td>\n",
              "      <td>0.156644</td>\n",
              "      <td>0.203287</td>\n",
              "      <td>0.409785</td>\n",
              "      <td>0.006885</td>\n",
              "      <td>0.165839</td>\n",
              "      <td>1.0</td>\n",
              "    </tr>\n",
              "    <tr>\n",
              "      <th>...</th>\n",
              "      <td>...</td>\n",
              "      <td>...</td>\n",
              "      <td>...</td>\n",
              "      <td>...</td>\n",
              "      <td>...</td>\n",
              "      <td>...</td>\n",
              "      <td>...</td>\n",
              "      <td>...</td>\n",
              "      <td>...</td>\n",
              "    </tr>\n",
              "    <tr>\n",
              "      <th>529</th>\n",
              "      <td>0.208643</td>\n",
              "      <td>0.335070</td>\n",
              "      <td>0.287926</td>\n",
              "      <td>0.332343</td>\n",
              "      <td>0.281979</td>\n",
              "      <td>0.254229</td>\n",
              "      <td>0.006885</td>\n",
              "      <td>0.115839</td>\n",
              "      <td>1.0</td>\n",
              "    </tr>\n",
              "    <tr>\n",
              "      <th>530</th>\n",
              "      <td>0.307692</td>\n",
              "      <td>0.240114</td>\n",
              "      <td>0.705882</td>\n",
              "      <td>0.210839</td>\n",
              "      <td>0.054877</td>\n",
              "      <td>0.352381</td>\n",
              "      <td>0.000000</td>\n",
              "      <td>0.200000</td>\n",
              "      <td>1.0</td>\n",
              "    </tr>\n",
              "    <tr>\n",
              "      <th>531</th>\n",
              "      <td>1.000000</td>\n",
              "      <td>0.504854</td>\n",
              "      <td>0.764706</td>\n",
              "      <td>0.281119</td>\n",
              "      <td>0.054877</td>\n",
              "      <td>0.800000</td>\n",
              "      <td>0.000000</td>\n",
              "      <td>0.400000</td>\n",
              "      <td>1.0</td>\n",
              "    </tr>\n",
              "    <tr>\n",
              "      <th>532</th>\n",
              "      <td>0.131719</td>\n",
              "      <td>0.876865</td>\n",
              "      <td>0.817338</td>\n",
              "      <td>0.367483</td>\n",
              "      <td>0.051642</td>\n",
              "      <td>0.854229</td>\n",
              "      <td>0.006885</td>\n",
              "      <td>0.115839</td>\n",
              "      <td>1.0</td>\n",
              "    </tr>\n",
              "    <tr>\n",
              "      <th>533</th>\n",
              "      <td>0.692308</td>\n",
              "      <td>0.357092</td>\n",
              "      <td>0.558824</td>\n",
              "      <td>0.527097</td>\n",
              "      <td>0.054877</td>\n",
              "      <td>0.466667</td>\n",
              "      <td>0.000000</td>\n",
              "      <td>0.500000</td>\n",
              "      <td>1.0</td>\n",
              "    </tr>\n",
              "  </tbody>\n",
              "</table>\n",
              "<p>534 rows × 9 columns</p>\n",
              "</div>\n",
              "      <button class=\"colab-df-convert\" onclick=\"convertToInteractive('df-b943dddf-49ee-46e9-a805-a84c64ebe046')\"\n",
              "              title=\"Convert this dataframe to an interactive table.\"\n",
              "              style=\"display:none;\">\n",
              "        \n",
              "  <svg xmlns=\"http://www.w3.org/2000/svg\" height=\"24px\"viewBox=\"0 0 24 24\"\n",
              "       width=\"24px\">\n",
              "    <path d=\"M0 0h24v24H0V0z\" fill=\"none\"/>\n",
              "    <path d=\"M18.56 5.44l.94 2.06.94-2.06 2.06-.94-2.06-.94-.94-2.06-.94 2.06-2.06.94zm-11 1L8.5 8.5l.94-2.06 2.06-.94-2.06-.94L8.5 2.5l-.94 2.06-2.06.94zm10 10l.94 2.06.94-2.06 2.06-.94-2.06-.94-.94-2.06-.94 2.06-2.06.94z\"/><path d=\"M17.41 7.96l-1.37-1.37c-.4-.4-.92-.59-1.43-.59-.52 0-1.04.2-1.43.59L10.3 9.45l-7.72 7.72c-.78.78-.78 2.05 0 2.83L4 21.41c.39.39.9.59 1.41.59.51 0 1.02-.2 1.41-.59l7.78-7.78 2.81-2.81c.8-.78.8-2.07 0-2.86zM5.41 20L4 18.59l7.72-7.72 1.47 1.35L5.41 20z\"/>\n",
              "  </svg>\n",
              "      </button>\n",
              "      \n",
              "  <style>\n",
              "    .colab-df-container {\n",
              "      display:flex;\n",
              "      flex-wrap:wrap;\n",
              "      gap: 12px;\n",
              "    }\n",
              "\n",
              "    .colab-df-convert {\n",
              "      background-color: #E8F0FE;\n",
              "      border: none;\n",
              "      border-radius: 50%;\n",
              "      cursor: pointer;\n",
              "      display: none;\n",
              "      fill: #1967D2;\n",
              "      height: 32px;\n",
              "      padding: 0 0 0 0;\n",
              "      width: 32px;\n",
              "    }\n",
              "\n",
              "    .colab-df-convert:hover {\n",
              "      background-color: #E2EBFA;\n",
              "      box-shadow: 0px 1px 2px rgba(60, 64, 67, 0.3), 0px 1px 3px 1px rgba(60, 64, 67, 0.15);\n",
              "      fill: #174EA6;\n",
              "    }\n",
              "\n",
              "    [theme=dark] .colab-df-convert {\n",
              "      background-color: #3B4455;\n",
              "      fill: #D2E3FC;\n",
              "    }\n",
              "\n",
              "    [theme=dark] .colab-df-convert:hover {\n",
              "      background-color: #434B5C;\n",
              "      box-shadow: 0px 1px 3px 1px rgba(0, 0, 0, 0.15);\n",
              "      filter: drop-shadow(0px 1px 2px rgba(0, 0, 0, 0.3));\n",
              "      fill: #FFFFFF;\n",
              "    }\n",
              "  </style>\n",
              "\n",
              "      <script>\n",
              "        const buttonEl =\n",
              "          document.querySelector('#df-b943dddf-49ee-46e9-a805-a84c64ebe046 button.colab-df-convert');\n",
              "        buttonEl.style.display =\n",
              "          google.colab.kernel.accessAllowed ? 'block' : 'none';\n",
              "\n",
              "        async function convertToInteractive(key) {\n",
              "          const element = document.querySelector('#df-b943dddf-49ee-46e9-a805-a84c64ebe046');\n",
              "          const dataTable =\n",
              "            await google.colab.kernel.invokeFunction('convertToInteractive',\n",
              "                                                     [key], {});\n",
              "          if (!dataTable) return;\n",
              "\n",
              "          const docLinkHtml = 'Like what you see? Visit the ' +\n",
              "            '<a target=\"_blank\" href=https://colab.research.google.com/notebooks/data_table.ipynb>data table notebook</a>'\n",
              "            + ' to learn more about interactive tables.';\n",
              "          element.innerHTML = '';\n",
              "          dataTable['output_type'] = 'display_data';\n",
              "          await google.colab.output.renderOutput(dataTable, element);\n",
              "          const docLink = document.createElement('div');\n",
              "          docLink.innerHTML = docLinkHtml;\n",
              "          element.appendChild(docLink);\n",
              "        }\n",
              "      </script>\n",
              "    </div>\n",
              "  </div>\n",
              "  "
            ]
          },
          "metadata": {},
          "execution_count": 86
        }
      ]
    },
    {
      "cell_type": "code",
      "source": [
        "np.isnan(scaled_Xtrain).sum()"
      ],
      "metadata": {
        "colab": {
          "base_uri": "https://localhost:8080/"
        },
        "id": "ca2bvGajkjqy",
        "outputId": "4121bb59-58fa-4fac-e371-a8f7b6fe8478"
      },
      "id": "ca2bvGajkjqy",
      "execution_count": 87,
      "outputs": [
        {
          "output_type": "execute_result",
          "data": {
            "text/plain": [
              "Pregnancies                 0\n",
              "Glucose                     0\n",
              "BloodPressure               0\n",
              "SkinThickness               0\n",
              "Insulin                     0\n",
              "BMI                         0\n",
              "DiabetesPedigreeFunction    0\n",
              "Age                         0\n",
              "AgeCategory                 3\n",
              "dtype: int64"
            ]
          },
          "metadata": {},
          "execution_count": 87
        }
      ]
    },
    {
      "cell_type": "code",
      "source": [
        "scaled_Xtrain[\"AgeCategory\"] = scaled_Xtrain[\"AgeCategory\"].fillna(0)\n"
      ],
      "metadata": {
        "id": "uc8jstLMkv-g"
      },
      "id": "uc8jstLMkv-g",
      "execution_count": 88,
      "outputs": []
    },
    {
      "cell_type": "code",
      "source": [
        "np.isnan(scaled_Xtrain).sum()"
      ],
      "metadata": {
        "colab": {
          "base_uri": "https://localhost:8080/"
        },
        "id": "fX-hYL18lY7T",
        "outputId": "641696f8-57b9-4a50-a5c9-17ea17fb0a5b"
      },
      "id": "fX-hYL18lY7T",
      "execution_count": 89,
      "outputs": [
        {
          "output_type": "execute_result",
          "data": {
            "text/plain": [
              "Pregnancies                 0\n",
              "Glucose                     0\n",
              "BloodPressure               0\n",
              "SkinThickness               0\n",
              "Insulin                     0\n",
              "BMI                         0\n",
              "DiabetesPedigreeFunction    0\n",
              "Age                         0\n",
              "AgeCategory                 0\n",
              "dtype: int64"
            ]
          },
          "metadata": {},
          "execution_count": 89
        }
      ]
    },
    {
      "cell_type": "code",
      "source": [
        "np.isnan(scaled_Xtest).sum()"
      ],
      "metadata": {
        "colab": {
          "base_uri": "https://localhost:8080/"
        },
        "id": "js380HFCllJ9",
        "outputId": "5a6934b6-fee3-4922-9d82-006cbc979f48"
      },
      "id": "js380HFCllJ9",
      "execution_count": 90,
      "outputs": [
        {
          "output_type": "execute_result",
          "data": {
            "text/plain": [
              "Pregnancies                 0\n",
              "Glucose                     0\n",
              "BloodPressure               0\n",
              "SkinThickness               0\n",
              "Insulin                     0\n",
              "BMI                         0\n",
              "DiabetesPedigreeFunction    0\n",
              "Age                         0\n",
              "AgeCategory                 0\n",
              "dtype: int64"
            ]
          },
          "metadata": {},
          "execution_count": 90
        }
      ]
    },
    {
      "cell_type": "code",
      "source": [
        "np.isnan(y_train).sum()"
      ],
      "metadata": {
        "colab": {
          "base_uri": "https://localhost:8080/"
        },
        "id": "df3McgNAlpHK",
        "outputId": "b74c486b-ad1a-4bd0-eeec-3ae7bf0ddf7f"
      },
      "id": "df3McgNAlpHK",
      "execution_count": 91,
      "outputs": [
        {
          "output_type": "execute_result",
          "data": {
            "text/plain": [
              "3"
            ]
          },
          "metadata": {},
          "execution_count": 91
        }
      ]
    },
    {
      "cell_type": "code",
      "source": [
        "type(y_train)"
      ],
      "metadata": {
        "colab": {
          "base_uri": "https://localhost:8080/"
        },
        "id": "E4hQAPXElw6o",
        "outputId": "65e70673-8971-495d-e665-b2b7963b291a"
      },
      "id": "E4hQAPXElw6o",
      "execution_count": 92,
      "outputs": [
        {
          "output_type": "execute_result",
          "data": {
            "text/plain": [
              "pandas.core.series.Series"
            ]
          },
          "metadata": {},
          "execution_count": 92
        }
      ]
    },
    {
      "cell_type": "code",
      "source": [
        "y_train = y_train.fillna(0)"
      ],
      "metadata": {
        "id": "HSwlv4dolzNz"
      },
      "id": "HSwlv4dolzNz",
      "execution_count": 93,
      "outputs": []
    },
    {
      "cell_type": "code",
      "source": [
        "classifier = DecisionTreeClassifier()\n",
        "classifier=classifier.fit(scaled_Xtrain,y_train)\n",
        "y_pred = classifier.predict(scaled_Xtest)"
      ],
      "metadata": {
        "id": "fAgSK3SJdkA7"
      },
      "id": "fAgSK3SJdkA7",
      "execution_count": 94,
      "outputs": []
    },
    {
      "cell_type": "code",
      "source": [
        "X_cr_alpha[\"AgeCategory\"] = X_cr_alpha[\"AgeCategory\"].fillna(0)"
      ],
      "metadata": {
        "id": "7e-EsapXnlZ4"
      },
      "id": "7e-EsapXnlZ4",
      "execution_count": 95,
      "outputs": []
    },
    {
      "cell_type": "code",
      "source": [
        "age=X_cr_alpha[\"AgeCategory\"]\n",
        "df2=X_cr_alpha.copy()\n",
        "df2=df2.reset_index()\n",
        "X_test_reset=scaled_Xtest.reset_index()\n",
        "X_list=list(X_test_reset[\"index\"])\n",
        "y_true=X_cr_alpha[\"Outcome\"].loc[X_list]\n",
        "age=X_cr_alpha[\"AgeCategory\"].loc[X_list]"
      ],
      "metadata": {
        "id": "W_CZ6KD9metq"
      },
      "id": "W_CZ6KD9metq",
      "execution_count": 96,
      "outputs": []
    },
    {
      "cell_type": "code",
      "source": [
        "print(type(y_true))\n",
        "print(type(y_pred))\n",
        "print(len(y_true))\n",
        "print(len(y_pred))\n",
        "print(type(age))\n",
        "y_true = y_true.fillna(0)"
      ],
      "metadata": {
        "colab": {
          "base_uri": "https://localhost:8080/"
        },
        "id": "02iFQ_7Mna5z",
        "outputId": "ed525b50-946a-4152-cd53-583566bf2eaa"
      },
      "id": "02iFQ_7Mna5z",
      "execution_count": 97,
      "outputs": [
        {
          "output_type": "stream",
          "name": "stdout",
          "text": [
            "<class 'pandas.core.series.Series'>\n",
            "<class 'numpy.ndarray'>\n",
            "534\n",
            "534\n",
            "<class 'pandas.core.series.Series'>\n"
          ]
        }
      ]
    },
    {
      "cell_type": "code",
      "source": [
        "metric_frame = MetricFrame(\n",
        "    metrics=metrics, y_true=y_true, y_pred=y_pred, sensitive_features=age\n",
        ")"
      ],
      "metadata": {
        "id": "SJmxYUdrmQWD"
      },
      "id": "SJmxYUdrmQWD",
      "execution_count": 98,
      "outputs": []
    },
    {
      "cell_type": "code",
      "source": [
        "metric_frame.by_group.plot.bar(\n",
        "    subplots=True,\n",
        "    layout=[3, 3],\n",
        "    legend=False,\n",
        "    figsize=[12, 8],\n",
        "    title=\"Show all metrics\",\n",
        ")"
      ],
      "metadata": {
        "colab": {
          "base_uri": "https://localhost:8080/",
          "height": 758
        },
        "id": "VArJSrvQo5Vg",
        "outputId": "3393c06b-a070-4320-9e18-75e765490af3"
      },
      "id": "VArJSrvQo5Vg",
      "execution_count": 99,
      "outputs": [
        {
          "output_type": "execute_result",
          "data": {
            "text/plain": [
              "array([[<matplotlib.axes._subplots.AxesSubplot object at 0x7f1b8f050880>,\n",
              "        <matplotlib.axes._subplots.AxesSubplot object at 0x7f1b8eff2820>,\n",
              "        <matplotlib.axes._subplots.AxesSubplot object at 0x7f1b8f010a30>],\n",
              "       [<matplotlib.axes._subplots.AxesSubplot object at 0x7f1b8efc0b50>,\n",
              "        <matplotlib.axes._subplots.AxesSubplot object at 0x7f1b8ef771c0>,\n",
              "        <matplotlib.axes._subplots.AxesSubplot object at 0x7f1b8efa5700>],\n",
              "       [<matplotlib.axes._subplots.AxesSubplot object at 0x7f1b8f067880>,\n",
              "        <matplotlib.axes._subplots.AxesSubplot object at 0x7f1b8ef0f850>,\n",
              "        <matplotlib.axes._subplots.AxesSubplot object at 0x7f1b8eeaefa0>]],\n",
              "      dtype=object)"
            ]
          },
          "metadata": {},
          "execution_count": 99
        },
        {
          "output_type": "display_data",
          "data": {
            "text/plain": [
              "<Figure size 864x576 with 9 Axes>"
            ],
            "image/png": "[encoded data removed]"
          },
          "metadata": {}
        }
      ]
    },
    {
      "cell_type": "code",
      "source": [
        "dem_parity=demographic_parity_difference(y_true,y_pred,sensitive_features=age)\n",
        "print(demographic_parity_difference(y_true,y_pred,sensitive_features=age))"
      ],
      "metadata": {
        "colab": {
          "base_uri": "https://localhost:8080/"
        },
        "id": "NmC_-nc2pU0w",
        "outputId": "a89a2b47-c20f-4aff-adfb-6fcf09326563"
      },
      "id": "NmC_-nc2pU0w",
      "execution_count": 100,
      "outputs": [
        {
          "output_type": "stream",
          "name": "stdout",
          "text": [
            "0.045385196258225624\n"
          ]
        }
      ]
    },
    {
      "cell_type": "code",
      "source": [
        "equalize_odds=equalized_odds_difference(y_true, y_pred, sensitive_features=age)\n",
        "print(equalized_odds_difference(y_true, y_pred, sensitive_features=age))"
      ],
      "metadata": {
        "colab": {
          "base_uri": "https://localhost:8080/"
        },
        "id": "X8qgpXlVpcye",
        "outputId": "39c01e12-dab9-477e-da12-9ab7256e94e5"
      },
      "id": "X8qgpXlVpcye",
      "execution_count": 101,
      "outputs": [
        {
          "output_type": "stream",
          "name": "stdout",
          "text": [
            "0.050080128205128194\n"
          ]
        }
      ]
    },
    {
      "cell_type": "code",
      "source": [
        "x1=metric_frame.by_group\n",
        "print(metric_frame.by_group)"
      ],
      "metadata": {
        "id": "U7J4w31N9p2d",
        "outputId": "41c79d6b-c57a-42ad-974b-b439832a0f33",
        "colab": {
          "base_uri": "https://localhost:8080/"
        }
      },
      "id": "U7J4w31N9p2d",
      "execution_count": 102,
      "outputs": [
        {
          "output_type": "stream",
          "name": "stdout",
          "text": [
            "             accuracy  precision  false positive rate  false negative rate  \\\n",
            "AgeCategory                                                                  \n",
            "0.0          0.582888   0.169014             0.378205             0.612903   \n",
            "1.0          0.524496   0.456897             0.328125             0.658065   \n",
            "\n",
            "             true positive rate  selection rate  count  \n",
            "AgeCategory                                             \n",
            "0.0                    0.387097        0.379679  187.0  \n",
            "1.0                    0.341935        0.334294  347.0  \n"
          ]
        }
      ]
    },
    {
      "cell_type": "code",
      "source": [
        "x1[\"true positive rate\"]"
      ],
      "metadata": {
        "colab": {
          "base_uri": "https://localhost:8080/"
        },
        "id": "WK48GGkGphJN",
        "outputId": "6c092c17-42d6-4f53-8651-392bc08c9cbf"
      },
      "id": "WK48GGkGphJN",
      "execution_count": 103,
      "outputs": [
        {
          "output_type": "execute_result",
          "data": {
            "text/plain": [
              "AgeCategory\n",
              "0.0    0.387097\n",
              "1.0    0.341935\n",
              "Name: true positive rate, dtype: float64"
            ]
          },
          "metadata": {},
          "execution_count": 103
        }
      ]
    },
    {
      "cell_type": "code",
      "source": [
        "equal_opportunity=x1[\"true positive rate\"][1]-x1[\"true positive rate\"][0]\n",
        "print(\"l'equal opportunity vale \",equal_opportunity)"
      ],
      "metadata": {
        "colab": {
          "base_uri": "https://localhost:8080/"
        },
        "id": "7u4jpSxhpkdv",
        "outputId": "6f7b15c8-f948-4e00-fbf4-6648b1816c73"
      },
      "id": "7u4jpSxhpkdv",
      "execution_count": 104,
      "outputs": [
        {
          "output_type": "stream",
          "name": "stdout",
          "text": [
            "l'equal opportunity vale  -0.04516129032258065\n"
          ]
        }
      ]
    }
  ],
  "metadata": {
    "kernelspec": {
      "display_name": "Python 3 (ipykernel)",
      "language": "python",
      "name": "python3"
    },
    "language_info": {
      "codemirror_mode": {
        "name": "ipython",
        "version": 3
      },
      "file_extension": ".py",
      "mimetype": "text/x-python",
      "name": "python",
      "nbconvert_exporter": "python",
      "pygments_lexer": "ipython3",
      "version": "3.9.12"
    },
    "colab": {
      "provenance": [],
      "collapsed_sections": [
        "4Y-XjrKVVxbU"
      ],
      "include_colab_link": true
    }
  },
  "nbformat": 4,
  "nbformat_minor": 5
}